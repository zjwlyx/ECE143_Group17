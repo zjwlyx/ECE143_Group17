{
 "cells": [
  {
   "attachments": {},
   "cell_type": "markdown",
   "metadata": {},
   "source": [
    "# Entitlements analysis on economies\n"
   ]
  },
  {
   "cell_type": "code",
   "execution_count": 20,
   "metadata": {},
   "outputs": [],
   "source": [
    "import pandas as pd \n",
    "import collections as cTools\n",
    "import itertools as iTools\n",
    "import numpy as np\n",
    "import plotly.graph_objects as go\n",
    "import os\n",
    "import seaborn as sns\n",
    "import matplotlib.pyplot as plt\n",
    "from scipy.stats import linregress\n",
    "from plotly.subplots import make_subplots"
   ]
  },
  {
   "cell_type": "code",
   "execution_count": 21,
   "metadata": {},
   "outputs": [],
   "source": [
    "# Load Data\n",
    "\n",
    "populationOfElderly = pd.read_csv(r'C:\\Hari\\Q5_books\\143\\Project\\entitlements\\elderly.csv')\n",
    "employmentRateByAgeGroup = pd.read_csv(r'C:\\Hari\\Q5_books\\143\\Project\\entitlements\\employmentRateByAgeGroup.csv')\n",
    "publicExpenditure = pd.read_csv(r'C:\\Hari\\Q5_books\\143\\Project\\entitlements\\publicExpenditure.csv')"
   ]
  },
  {
   "cell_type": "code",
   "execution_count": 22,
   "metadata": {},
   "outputs": [
    {
     "name": "stdout",
     "output_type": "stream",
     "text": [
      "['ARG', 'BRA', 'CAN', 'CHN', 'COL', 'DEU', 'ISL', 'DNK', 'FIN', 'JPN', 'KOR', 'GBR', 'USA', 'SWE', 'NOR']\n"
     ]
    }
   ],
   "source": [
    "yearsToAnalyze = list(range(1950,2000,1))\n",
    "countriesToAnalyze = ['ARG','BRA','CAN','CHN','COL','DEU','ISL','DNK','FIN','JPN','KOR','GBR','USA','SWE','NOR']\n",
    "populationOfElderly = populationOfElderly.drop(columns=['FREQUENCY','SUBJECT','MEASURE','INDICATOR','Flag Codes'])\n",
    "employmentRateByAgeGroup = employmentRateByAgeGroup.drop(columns=['FREQUENCY','SUBJECT','MEASURE','INDICATOR','Flag Codes'])\n",
    "print(countriesToAnalyze)"
   ]
  },
  {
   "cell_type": "code",
   "execution_count": 23,
   "metadata": {},
   "outputs": [
    {
     "name": "stdout",
     "output_type": "stream",
     "text": [
      "TIME           2000       2003       2006       2009       2012       2015  \\\n",
      "LOCATION                                                                     \n",
      "ARG        9.395273   9.867974   9.970949  10.109265  10.354865  10.745288   \n",
      "BRA        5.804594   6.217012   6.615944   7.110998   7.712468   8.409910   \n",
      "CAN       12.550632  12.832472  13.259903  13.884860  14.849640  16.027370   \n",
      "CHN        6.920629   7.502388   7.996802   8.450282   9.049303  10.020054   \n",
      "COL        5.745680   6.057823   6.277187   6.575620   6.997463   7.485892   \n",
      "DEU       16.448588  17.749502  19.525823  20.531015  20.713858  21.049280   \n",
      "DNK       14.830054  14.886711  15.255548  16.106414  17.653195  18.735713   \n",
      "FIN       14.917885  15.459015  16.234311  16.880979  18.450722  20.206941   \n",
      "GBR       15.806451  15.912140  15.871640  16.176886  17.017410  17.833145   \n",
      "ISL       11.574324  11.734860  11.631620  11.811894  12.783929  13.695446   \n",
      "JPN       17.366895  19.050455  20.822066  22.748639  24.148134  26.647812   \n",
      "KOR        7.221937   8.226503   9.343463  10.499114  11.487542  12.822062   \n",
      "NOR       15.162171  14.764277  14.676550  14.781134  15.528594  16.275927   \n",
      "SWE       17.264480  17.163242  17.327338  17.937580  18.976858  19.696071   \n",
      "USA       12.428859  12.362133  12.455298  12.916184  13.741727  14.858147   \n",
      "\n",
      "TIME           2018       2021  \n",
      "LOCATION                        \n",
      "ARG       11.197844  11.686135  \n",
      "BRA        9.222207  10.152963  \n",
      "CAN       17.147006  18.516373  \n",
      "CHN       11.480053  13.149753  \n",
      "COL        8.060025   8.681152  \n",
      "DEU       21.466080  22.061215  \n",
      "DNK       19.461371  20.300968  \n",
      "FIN       21.613119  22.874597  \n",
      "GBR       18.311818  18.834662  \n",
      "ISL       14.136345  14.861364  \n",
      "JPN       28.137412  28.855448  \n",
      "KOR       14.279493  16.564630  \n",
      "NOR       17.086754  18.076020  \n",
      "SWE       19.861310  20.194566  \n",
      "USA       16.018509  16.827058  \n"
     ]
    }
   ],
   "source": [
    "# Population of Elderly Manipulation\n",
    "\n",
    "populationOfElderly['LOCATION'] = pd.Categorical(populationOfElderly['LOCATION'])\n",
    "populationOfElderly.set_index('LOCATION')\n",
    "populationOfElderly = populationOfElderly.pivot_table(index='LOCATION', columns='TIME', values='Value', aggfunc='first')\n",
    "populationOfElderly = populationOfElderly.drop(columns=yearsToAnalyze)\n",
    "populationOfElderly = populationOfElderly[populationOfElderly.index.isin(countriesToAnalyze)]\n",
    "populationOfElderly = populationOfElderly.iloc[:,::3]\n",
    "print(populationOfElderly)"
   ]
  },
  {
   "cell_type": "code",
   "execution_count": 24,
   "metadata": {},
   "outputs": [
    {
     "data": {
      "text/plain": [
       "<AxesSubplot:xlabel='TIME', ylabel='LOCATION'>"
      ]
     },
     "execution_count": 24,
     "metadata": {},
     "output_type": "execute_result"
    },
    {
     "data": {
      "image/png": "[encoded data removed]",
      "text/plain": [
       "<Figure size 640x480 with 2 Axes>"
      ]
     },
     "metadata": {},
     "output_type": "display_data"
    }
   ],
   "source": [
    "# Plot the graphs\n",
    "sns.set_context(\"notebook\", font_scale=0.8)\n",
    "sns.heatmap(populationOfElderly)"
   ]
  },
  {
   "cell_type": "code",
   "execution_count": 25,
   "metadata": {},
   "outputs": [
    {
     "name": "stdout",
     "output_type": "stream",
     "text": [
      "LOCATION       BRA       CAN       COL     DEU     DNK     FIN     GBR  \\\n",
      "TIME                                                                     \n",
      "2000      56.23333  56.23333  65.97500  65.975  65.975  41.100  62.525   \n",
      "2003      42.88126  58.15000  59.57500  59.575  59.575  39.625  61.075   \n",
      "2006      44.27253  59.35833  43.52500  43.525  64.550  42.100  58.875   \n",
      "2009      44.84620  56.41667  39.27500  45.375  58.750  39.100  52.200   \n",
      "2012      46.73780  55.90000  43.84917  46.000  51.375  41.125  50.300   \n",
      "2015      42.59475  57.13334  44.75667  44.700  51.350  39.975  54.050   \n",
      "2018      57.90000  57.90000  42.07917  46.525  53.750  43.600  54.775   \n",
      "\n",
      "LOCATION       ISL       JPN       KOR     NOR       SWE       USA  \n",
      "TIME                                                                \n",
      "2000      42.83065  42.83065  29.45086  57.675  59.65937  59.65937  \n",
      "2003      67.35000  40.35870  30.97331  55.150  41.25000  53.90615  \n",
      "2006      72.05000  41.32818  27.78982  52.425  40.27500  54.24495  \n",
      "2009      61.52500  39.54049  22.62508  52.575  38.72500  46.85199  \n",
      "2012      65.40000  38.33610  24.06912  52.200  40.82500  45.98380  \n",
      "2015      73.10000  40.29896  26.72864  50.375  44.57500  48.60504  \n",
      "2018      75.40000  45.70039  26.17167  49.075  45.30000  50.46012  \n"
     ]
    }
   ],
   "source": [
    "# Working population Manipulation\n",
    "\n",
    "yearsToAnalyze = list(range(1955,2000,1))\n",
    "employmentRateByAgeGroup['LOCATION'] = pd.Categorical(employmentRateByAgeGroup['LOCATION'])\n",
    "employmentRateByAgeGroup = employmentRateByAgeGroup.set_index('LOCATION')\n",
    "\n",
    "employmentRateByAgeGroup['TIME'] = employmentRateByAgeGroup['TIME'].str.extract(r'(\\d{4})').astype('int')\n",
    "employmentRateByAgeGroup = employmentRateByAgeGroup.pivot_table(index='LOCATION', columns='TIME', values='Value', aggfunc='first')\n",
    "employmentRateByAgeGroup = employmentRateByAgeGroup.drop(columns=yearsToAnalyze)\n",
    "employmentRateByAgeGroup = employmentRateByAgeGroup[employmentRateByAgeGroup.index.isin(countriesToAnalyze)]\n",
    "employmentRateByAgeGroup = employmentRateByAgeGroup.iloc[:,::3]\n",
    "employmentRateByAgeGroup.fillna(method='bfill', inplace=True)\n",
    "employmentRateByAgeGroup = employmentRateByAgeGroup.drop(columns=[2021])\n",
    "employmentRateByAgeGroup = employmentRateByAgeGroup.transpose()\n",
    "print(employmentRateByAgeGroup)"
   ]
  },
  {
   "cell_type": "code",
   "execution_count": 26,
   "metadata": {},
   "outputs": [
    {
     "data": {
      "application/vnd.plotly.v1+json": {
       "config": {
        "plotlyServerURL": "https://plot.ly"
       },
       "data": [
        {
         "name": "BRA",
         "type": "scatter",
         "x": [
          2000,
          2003,
          2006,
          2009,
          2012,
          2015,
          2018
         ],
         "xaxis": "x",
         "y": [
          56.23333,
          42.88126,
          44.27253,
          44.8462,
          46.7378,
          42.59475,
          57.9
         ],
         "yaxis": "y"
        },
        {
         "name": "CAN",
         "type": "scatter",
         "x": [
          2000,
          2003,
          2006,
          2009,
          2012,
          2015,
          2018
         ],
         "xaxis": "x2",
         "y": [
          56.23333,
          58.15,
          59.35833,
          56.41667,
          55.9,
          57.13334,
          57.9
         ],
         "yaxis": "y2"
        },
        {
         "name": "COL",
         "type": "scatter",
         "x": [
          2000,
          2003,
          2006,
          2009,
          2012,
          2015,
          2018
         ],
         "xaxis": "x3",
         "y": [
          65.975,
          59.575,
          43.525,
          39.275,
          43.84917,
          44.75667,
          42.07917
         ],
         "yaxis": "y3"
        },
        {
         "name": "DEU",
         "type": "scatter",
         "x": [
          2000,
          2003,
          2006,
          2009,
          2012,
          2015,
          2018
         ],
         "xaxis": "x4",
         "y": [
          65.975,
          59.575,
          43.525,
          45.375,
          46,
          44.7,
          46.525
         ],
         "yaxis": "y4"
        },
        {
         "name": "DNK",
         "type": "scatter",
         "x": [
          2000,
          2003,
          2006,
          2009,
          2012,
          2015,
          2018
         ],
         "xaxis": "x5",
         "y": [
          65.975,
          59.575,
          64.55,
          58.75,
          51.375,
          51.35,
          53.75
         ],
         "yaxis": "y5"
        },
        {
         "name": "FIN",
         "type": "scatter",
         "x": [
          2000,
          2003,
          2006,
          2009,
          2012,
          2015,
          2018
         ],
         "xaxis": "x6",
         "y": [
          41.1,
          39.625,
          42.1,
          39.1,
          41.125,
          39.975,
          43.6
         ],
         "yaxis": "y6"
        },
        {
         "name": "GBR",
         "type": "scatter",
         "x": [
          2000,
          2003,
          2006,
          2009,
          2012,
          2015,
          2018
         ],
         "xaxis": "x7",
         "y": [
          62.525,
          61.075,
          58.875,
          52.2,
          50.3,
          54.05,
          54.775
         ],
         "yaxis": "y7"
        },
        {
         "name": "ISL",
         "type": "scatter",
         "x": [
          2000,
          2003,
          2006,
          2009,
          2012,
          2015,
          2018
         ],
         "xaxis": "x8",
         "y": [
          42.83065,
          67.35,
          72.05,
          61.525,
          65.4,
          73.1,
          75.4
         ],
         "yaxis": "y8"
        },
        {
         "name": "JPN",
         "type": "scatter",
         "x": [
          2000,
          2003,
          2006,
          2009,
          2012,
          2015,
          2018
         ],
         "xaxis": "x9",
         "y": [
          42.83065,
          40.3587,
          41.32818,
          39.54049,
          38.3361,
          40.29896,
          45.70039
         ],
         "yaxis": "y9"
        },
        {
         "name": "KOR",
         "type": "scatter",
         "x": [
          2000,
          2003,
          2006,
          2009,
          2012,
          2015,
          2018
         ],
         "xaxis": "x10",
         "y": [
          29.45086,
          30.97331,
          27.78982,
          22.62508,
          24.06912,
          26.72864,
          26.17167
         ],
         "yaxis": "y10"
        },
        {
         "name": "NOR",
         "type": "scatter",
         "x": [
          2000,
          2003,
          2006,
          2009,
          2012,
          2015,
          2018
         ],
         "xaxis": "x11",
         "y": [
          57.675,
          55.15,
          52.425,
          52.575,
          52.2,
          50.375,
          49.075
         ],
         "yaxis": "y11"
        },
        {
         "name": "SWE",
         "type": "scatter",
         "x": [
          2000,
          2003,
          2006,
          2009,
          2012,
          2015,
          2018
         ],
         "xaxis": "x12",
         "y": [
          59.65937,
          41.25,
          40.275,
          38.725,
          40.825,
          44.575,
          45.3
         ],
         "yaxis": "y12"
        },
        {
         "name": "USA",
         "type": "scatter",
         "x": [
          2000,
          2003,
          2006,
          2009,
          2012,
          2015,
          2018
         ],
         "xaxis": "x13",
         "y": [
          59.65937,
          53.90615,
          54.24495,
          46.85199,
          45.9838,
          48.60504,
          50.46012
         ],
         "yaxis": "y13"
        }
       ],
       "layout": {
        "grid": {
         "columns": 2,
         "rows": 5
        },
        "margin": {
         "b": 50,
         "l": 50,
         "r": 50,
         "t": 50
        },
        "paper_bgcolor": "white",
        "shapes": [
         {
          "line": {
           "color": "black",
           "width": 2
          },
          "type": "rect",
          "x0": 0,
          "x1": 1,
          "xref": "paper",
          "y0": 0,
          "y1": 1,
          "yref": "paper"
         }
        ],
        "template": {
         "data": {
          "bar": [
           {
            "error_x": {
             "color": "#2a3f5f"
            },
            "error_y": {
             "color": "#2a3f5f"
            },
            "marker": {
             "line": {
              "color": "#E5ECF6",
              "width": 0.5
             },
             "pattern": {
              "fillmode": "overlay",
              "size": 10,
              "solidity": 0.2
             }
            },
            "type": "bar"
           }
          ],
          "barpolar": [
           {
            "marker": {
             "line": {
              "color": "#E5ECF6",
              "width": 0.5
             },
             "pattern": {
              "fillmode": "overlay",
              "size": 10,
              "solidity": 0.2
             }
            },
            "type": "barpolar"
           }
          ],
          "carpet": [
           {
            "aaxis": {
             "endlinecolor": "#2a3f5f",
             "gridcolor": "white",
             "linecolor": "white",
             "minorgridcolor": "white",
             "startlinecolor": "#2a3f5f"
            },
            "baxis": {
             "endlinecolor": "#2a3f5f",
             "gridcolor": "white",
             "linecolor": "white",
             "minorgridcolor": "white",
             "startlinecolor": "#2a3f5f"
            },
            "type": "carpet"
           }
          ],
          "choropleth": [
           {
            "colorbar": {
             "outlinewidth": 0,
             "ticks": ""
            },
            "type": "choropleth"
           }
          ],
          "contour": [
           {
            "colorbar": {
             "outlinewidth": 0,
             "ticks": ""
            },
            "colorscale": [
             [
              0,
              "#0d0887"
             ],
             [
              0.1111111111111111,
              "#46039f"
             ],
             [
              0.2222222222222222,
              "#7201a8"
             ],
             [
              0.3333333333333333,
              "#9c179e"
             ],
             [
              0.4444444444444444,
              "#bd3786"
             ],
             [
              0.5555555555555556,
              "#d8576b"
             ],
             [
              0.6666666666666666,
              "#ed7953"
             ],
             [
              0.7777777777777778,
              "#fb9f3a"
             ],
             [
              0.8888888888888888,
              "#fdca26"
             ],
             [
              1,
              "#f0f921"
             ]
            ],
            "type": "contour"
           }
          ],
          "contourcarpet": [
           {
            "colorbar": {
             "outlinewidth": 0,
             "ticks": ""
            },
            "type": "contourcarpet"
           }
          ],
          "heatmap": [
           {
            "colorbar": {
             "outlinewidth": 0,
             "ticks": ""
            },
            "colorscale": [
             [
              0,
              "#0d0887"
             ],
             [
              0.1111111111111111,
              "#46039f"
             ],
             [
              0.2222222222222222,
              "#7201a8"
             ],
             [
              0.3333333333333333,
              "#9c179e"
             ],
             [
              0.4444444444444444,
              "#bd3786"
             ],
             [
              0.5555555555555556,
              "#d8576b"
             ],
             [
              0.6666666666666666,
              "#ed7953"
             ],
             [
              0.7777777777777778,
              "#fb9f3a"
             ],
             [
              0.8888888888888888,
              "#fdca26"
             ],
             [
              1,
              "#f0f921"
             ]
            ],
            "type": "heatmap"
           }
          ],
          "heatmapgl": [
           {
            "colorbar": {
             "outlinewidth": 0,
             "ticks": ""
            },
            "colorscale": [
             [
              0,
              "#0d0887"
             ],
             [
              0.1111111111111111,
              "#46039f"
             ],
             [
              0.2222222222222222,
              "#7201a8"
             ],
             [
              0.3333333333333333,
              "#9c179e"
             ],
             [
              0.4444444444444444,
              "#bd3786"
             ],
             [
              0.5555555555555556,
              "#d8576b"
             ],
             [
              0.6666666666666666,
              "#ed7953"
             ],
             [
              0.7777777777777778,
              "#fb9f3a"
             ],
             [
              0.8888888888888888,
              "#fdca26"
             ],
             [
              1,
              "#f0f921"
             ]
            ],
            "type": "heatmapgl"
           }
          ],
          "histogram": [
           {
            "marker": {
             "pattern": {
              "fillmode": "overlay",
              "size": 10,
              "solidity": 0.2
             }
            },
            "type": "histogram"
           }
          ],
          "histogram2d": [
           {
            "colorbar": {
             "outlinewidth": 0,
             "ticks": ""
            },
            "colorscale": [
             [
              0,
              "#0d0887"
             ],
             [
              0.1111111111111111,
              "#46039f"
             ],
             [
              0.2222222222222222,
              "#7201a8"
             ],
             [
              0.3333333333333333,
              "#9c179e"
             ],
             [
              0.4444444444444444,
              "#bd3786"
             ],
             [
              0.5555555555555556,
              "#d8576b"
             ],
             [
              0.6666666666666666,
              "#ed7953"
             ],
             [
              0.7777777777777778,
              "#fb9f3a"
             ],
             [
              0.8888888888888888,
              "#fdca26"
             ],
             [
              1,
              "#f0f921"
             ]
            ],
            "type": "histogram2d"
           }
          ],
          "histogram2dcontour": [
           {
            "colorbar": {
             "outlinewidth": 0,
             "ticks": ""
            },
            "colorscale": [
             [
              0,
              "#0d0887"
             ],
             [
              0.1111111111111111,
              "#46039f"
             ],
             [
              0.2222222222222222,
              "#7201a8"
             ],
             [
              0.3333333333333333,
              "#9c179e"
             ],
             [
              0.4444444444444444,
              "#bd3786"
             ],
             [
              0.5555555555555556,
              "#d8576b"
             ],
             [
              0.6666666666666666,
              "#ed7953"
             ],
             [
              0.7777777777777778,
              "#fb9f3a"
             ],
             [
              0.8888888888888888,
              "#fdca26"
             ],
             [
              1,
              "#f0f921"
             ]
            ],
            "type": "histogram2dcontour"
           }
          ],
          "mesh3d": [
           {
            "colorbar": {
             "outlinewidth": 0,
             "ticks": ""
            },
            "type": "mesh3d"
           }
          ],
          "parcoords": [
           {
            "line": {
             "colorbar": {
              "outlinewidth": 0,
              "ticks": ""
             }
            },
            "type": "parcoords"
           }
          ],
          "pie": [
           {
            "automargin": true,
            "type": "pie"
           }
          ],
          "scatter": [
           {
            "fillpattern": {
             "fillmode": "overlay",
             "size": 10,
             "solidity": 0.2
            },
            "type": "scatter"
           }
          ],
          "scatter3d": [
           {
            "line": {
             "colorbar": {
              "outlinewidth": 0,
              "ticks": ""
             }
            },
            "marker": {
             "colorbar": {
              "outlinewidth": 0,
              "ticks": ""
             }
            },
            "type": "scatter3d"
           }
          ],
          "scattercarpet": [
           {
            "marker": {
             "colorbar": {
              "outlinewidth": 0,
              "ticks": ""
             }
            },
            "type": "scattercarpet"
           }
          ],
          "scattergeo": [
           {
            "marker": {
             "colorbar": {
              "outlinewidth": 0,
              "ticks": ""
             }
            },
            "type": "scattergeo"
           }
          ],
          "scattergl": [
           {
            "marker": {
             "colorbar": {
              "outlinewidth": 0,
              "ticks": ""
             }
            },
            "type": "scattergl"
           }
          ],
          "scattermapbox": [
           {
            "marker": {
             "colorbar": {
              "outlinewidth": 0,
              "ticks": ""
             }
            },
            "type": "scattermapbox"
           }
          ],
          "scatterpolar": [
           {
            "marker": {
             "colorbar": {
              "outlinewidth": 0,
              "ticks": ""
             }
            },
            "type": "scatterpolar"
           }
          ],
          "scatterpolargl": [
           {
            "marker": {
             "colorbar": {
              "outlinewidth": 0,
              "ticks": ""
             }
            },
            "type": "scatterpolargl"
           }
          ],
          "scatterternary": [
           {
            "marker": {
             "colorbar": {
              "outlinewidth": 0,
              "ticks": ""
             }
            },
            "type": "scatterternary"
           }
          ],
          "surface": [
           {
            "colorbar": {
             "outlinewidth": 0,
             "ticks": ""
            },
            "colorscale": [
             [
              0,
              "#0d0887"
             ],
             [
              0.1111111111111111,
              "#46039f"
             ],
             [
              0.2222222222222222,
              "#7201a8"
             ],
             [
              0.3333333333333333,
              "#9c179e"
             ],
             [
              0.4444444444444444,
              "#bd3786"
             ],
             [
              0.5555555555555556,
              "#d8576b"
             ],
             [
              0.6666666666666666,
              "#ed7953"
             ],
             [
              0.7777777777777778,
              "#fb9f3a"
             ],
             [
              0.8888888888888888,
              "#fdca26"
             ],
             [
              1,
              "#f0f921"
             ]
            ],
            "type": "surface"
           }
          ],
          "table": [
           {
            "cells": {
             "fill": {
              "color": "#EBF0F8"
             },
             "line": {
              "color": "white"
             }
            },
            "header": {
             "fill": {
              "color": "#C8D4E3"
             },
             "line": {
              "color": "white"
             }
            },
            "type": "table"
           }
          ]
         },
         "layout": {
          "annotationdefaults": {
           "arrowcolor": "#2a3f5f",
           "arrowhead": 0,
           "arrowwidth": 1
          },
          "autotypenumbers": "strict",
          "coloraxis": {
           "colorbar": {
            "outlinewidth": 0,
            "ticks": ""
           }
          },
          "colorscale": {
           "diverging": [
            [
             0,
             "#8e0152"
            ],
            [
             0.1,
             "#c51b7d"
            ],
            [
             0.2,
             "#de77ae"
            ],
            [
             0.3,
             "#f1b6da"
            ],
            [
             0.4,
             "#fde0ef"
            ],
            [
             0.5,
             "#f7f7f7"
            ],
            [
             0.6,
             "#e6f5d0"
            ],
            [
             0.7,
             "#b8e186"
            ],
            [
             0.8,
             "#7fbc41"
            ],
            [
             0.9,
             "#4d9221"
            ],
            [
             1,
             "#276419"
            ]
           ],
           "sequential": [
            [
             0,
             "#0d0887"
            ],
            [
             0.1111111111111111,
             "#46039f"
            ],
            [
             0.2222222222222222,
             "#7201a8"
            ],
            [
             0.3333333333333333,
             "#9c179e"
            ],
            [
             0.4444444444444444,
             "#bd3786"
            ],
            [
             0.5555555555555556,
             "#d8576b"
            ],
            [
             0.6666666666666666,
             "#ed7953"
            ],
            [
             0.7777777777777778,
             "#fb9f3a"
            ],
            [
             0.8888888888888888,
             "#fdca26"
            ],
            [
             1,
             "#f0f921"
            ]
           ],
           "sequentialminus": [
            [
             0,
             "#0d0887"
            ],
            [
             0.1111111111111111,
             "#46039f"
            ],
            [
             0.2222222222222222,
             "#7201a8"
            ],
            [
             0.3333333333333333,
             "#9c179e"
            ],
            [
             0.4444444444444444,
             "#bd3786"
            ],
            [
             0.5555555555555556,
             "#d8576b"
            ],
            [
             0.6666666666666666,
             "#ed7953"
            ],
            [
             0.7777777777777778,
             "#fb9f3a"
            ],
            [
             0.8888888888888888,
             "#fdca26"
            ],
            [
             1,
             "#f0f921"
            ]
           ]
          },
          "colorway": [
           "#636efa",
           "#EF553B",
           "#00cc96",
           "#ab63fa",
           "#FFA15A",
           "#19d3f3",
           "#FF6692",
           "#B6E880",
           "#FF97FF",
           "#FECB52"
          ],
          "font": {
           "color": "#2a3f5f"
          },
          "geo": {
           "bgcolor": "white",
           "lakecolor": "white",
           "landcolor": "#E5ECF6",
           "showlakes": true,
           "showland": true,
           "subunitcolor": "white"
          },
          "hoverlabel": {
           "align": "left"
          },
          "hovermode": "closest",
          "mapbox": {
           "style": "light"
          },
          "paper_bgcolor": "white",
          "plot_bgcolor": "#E5ECF6",
          "polar": {
           "angularaxis": {
            "gridcolor": "white",
            "linecolor": "white",
            "ticks": ""
           },
           "bgcolor": "#E5ECF6",
           "radialaxis": {
            "gridcolor": "white",
            "linecolor": "white",
            "ticks": ""
           }
          },
          "scene": {
           "xaxis": {
            "backgroundcolor": "#E5ECF6",
            "gridcolor": "white",
            "gridwidth": 2,
            "linecolor": "white",
            "showbackground": true,
            "ticks": "",
            "zerolinecolor": "white"
           },
           "yaxis": {
            "backgroundcolor": "#E5ECF6",
            "gridcolor": "white",
            "gridwidth": 2,
            "linecolor": "white",
            "showbackground": true,
            "ticks": "",
            "zerolinecolor": "white"
           },
           "zaxis": {
            "backgroundcolor": "#E5ECF6",
            "gridcolor": "white",
            "gridwidth": 2,
            "linecolor": "white",
            "showbackground": true,
            "ticks": "",
            "zerolinecolor": "white"
           }
          },
          "shapedefaults": {
           "line": {
            "color": "#2a3f5f"
           }
          },
          "ternary": {
           "aaxis": {
            "gridcolor": "white",
            "linecolor": "white",
            "ticks": ""
           },
           "baxis": {
            "gridcolor": "white",
            "linecolor": "white",
            "ticks": ""
           },
           "bgcolor": "#E5ECF6",
           "caxis": {
            "gridcolor": "white",
            "linecolor": "white",
            "ticks": ""
           }
          },
          "title": {
           "x": 0.05
          },
          "xaxis": {
           "automargin": true,
           "gridcolor": "white",
           "linecolor": "white",
           "ticks": "",
           "title": {
            "standoff": 15
           },
           "zerolinecolor": "white",
           "zerolinewidth": 2
          },
          "yaxis": {
           "automargin": true,
           "gridcolor": "white",
           "linecolor": "white",
           "ticks": "",
           "title": {
            "standoff": 15
           },
           "zerolinecolor": "white",
           "zerolinewidth": 2
          }
         }
        },
        "title": {
         "text": "Aged working Population as a % of total working population"
        },
        "xaxis": {
         "anchor": "y",
         "domain": [
          0,
          1
         ],
         "title": {
          "text": "Year"
         }
        },
        "xaxis10": {
         "anchor": "y10",
         "domain": [
          0,
          1
         ]
        },
        "xaxis11": {
         "anchor": "y11",
         "domain": [
          0,
          1
         ]
        },
        "xaxis12": {
         "anchor": "y12",
         "domain": [
          0,
          1
         ]
        },
        "xaxis13": {
         "anchor": "y13",
         "domain": [
          0,
          1
         ]
        },
        "xaxis2": {
         "anchor": "y2",
         "domain": [
          0,
          1
         ]
        },
        "xaxis3": {
         "anchor": "y3",
         "domain": [
          0,
          1
         ]
        },
        "xaxis4": {
         "anchor": "y4",
         "domain": [
          0,
          1
         ]
        },
        "xaxis5": {
         "anchor": "y5",
         "domain": [
          0,
          1
         ]
        },
        "xaxis6": {
         "anchor": "y6",
         "domain": [
          0,
          1
         ]
        },
        "xaxis7": {
         "anchor": "y7",
         "domain": [
          0,
          1
         ]
        },
        "xaxis8": {
         "anchor": "y8",
         "domain": [
          0,
          1
         ]
        },
        "xaxis9": {
         "anchor": "y9",
         "domain": [
          0,
          1
         ]
        },
        "yaxis": {
         "anchor": "x",
         "domain": [
          0.9443786982248521,
          1
         ],
         "title": {
          "text": " % of total working population"
         }
        },
        "yaxis10": {
         "anchor": "x10",
         "domain": [
          0.23609467455621302,
          0.291715976331361
         ]
        },
        "yaxis11": {
         "anchor": "x11",
         "domain": [
          0.15739644970414202,
          0.21301775147928995
         ]
        },
        "yaxis12": {
         "anchor": "x12",
         "domain": [
          0.07869822485207101,
          0.13431952662721894
         ]
        },
        "yaxis13": {
         "anchor": "x13",
         "domain": [
          0,
          0.05562130177514794
         ]
        },
        "yaxis2": {
         "anchor": "x2",
         "domain": [
          0.8656804733727811,
          0.921301775147929
         ]
        },
        "yaxis3": {
         "anchor": "x3",
         "domain": [
          0.7869822485207101,
          0.842603550295858
         ]
        },
        "yaxis4": {
         "anchor": "x4",
         "domain": [
          0.7082840236686392,
          0.7639053254437871
         ]
        },
        "yaxis5": {
         "anchor": "x5",
         "domain": [
          0.6295857988165682,
          0.6852071005917161
         ]
        },
        "yaxis6": {
         "anchor": "x6",
         "domain": [
          0.5508875739644972,
          0.6065088757396451
         ]
        },
        "yaxis7": {
         "anchor": "x7",
         "domain": [
          0.47218934911242605,
          0.527810650887574
         ]
        },
        "yaxis8": {
         "anchor": "x8",
         "domain": [
          0.39349112426035504,
          0.449112426035503
         ]
        },
        "yaxis9": {
         "anchor": "x9",
         "domain": [
          0.31479289940828403,
          0.370414201183432
         ]
        }
       }
      }
     },
     "metadata": {},
     "output_type": "display_data"
    }
   ],
   "source": [
    "\n",
    "fig = make_subplots(rows=len(employmentRateByAgeGroup.columns),cols=1)\n",
    "r=1\n",
    "c=1\n",
    "for country in employmentRateByAgeGroup.columns:\n",
    "    fig.add_trace(go.Scatter(x=employmentRateByAgeGroup.index, y=employmentRateByAgeGroup[country], name=country),row=r, col =c)\n",
    "    r+=1\n",
    "fig.update_layout(title='Aged working Population as a % of total working population', xaxis_title='Year', yaxis_title=' % of total working population')\n",
    "\n",
    "fig.update_layout(\n",
    "    paper_bgcolor = 'white',\n",
    "    margin=dict(l=50, r=50, t=50, b=50), # Set the plot margins\n",
    "    # Add a border to the plot area\n",
    "    shapes=[\n",
    "        dict(\n",
    "            type='rect',\n",
    "            xref='paper',\n",
    "            yref='paper',\n",
    "            x0=0,\n",
    "            y0=0,\n",
    "            x1=1,\n",
    "            y1=1,\n",
    "            line=dict(width=2, color='black')\n",
    "        )\n",
    "    ]\n",
    ")\n",
    "fig.update_layout(grid=dict(rows=5, columns=2))\n",
    "\n",
    "\n",
    "fig.show()"
   ]
  },
  {
   "cell_type": "code",
   "execution_count": 27,
   "metadata": {},
   "outputs": [
    {
     "data": {
      "text/plain": [
       "\"\\npublicExpenditure['TIME'] = publicExpenditure['TIME'].str.extract(r'(\\\\d{4})').astype('int')\\npublicExpenditure = publicExpenditure.pivot_table(index='LOCATION', columns='TIME', values='Value', aggfunc='first')\\npublicExpenditure = publicExpenditure.drop(columns=yearsToAnalyze)\\npublicExpenditure = publicExpenditure[publicExpenditure.index.isin(countriesToAnalyze)]\\npublicExpenditure = publicExpenditure.iloc[:,::3]\\npublicExpenditure.fillna(method='bfill', inplace=True)\\npublicExpenditure = publicExpenditure.drop(columns=[2021])\\npublicExpenditure = publicExpenditure.transpose()\\n\""
      ]
     },
     "execution_count": 27,
     "metadata": {},
     "output_type": "execute_result"
    }
   ],
   "source": [
    "# Expenditure manipulation\n",
    "yearsToAnalyze = list(range(1955,2000,1))\n",
    "publicExpenditure['LOCATION'] = pd.Categorical(publicExpenditure['LOCATION'])\n",
    "publicExpenditure = publicExpenditure.set_index('LOCATION')\n",
    "'''\n",
    "publicExpenditure['TIME'] = publicExpenditure['TIME'].str.extract(r'(\\d{4})').astype('int')\n",
    "publicExpenditure = publicExpenditure.pivot_table(index='LOCATION', columns='TIME', values='Value', aggfunc='first')\n",
    "publicExpenditure = publicExpenditure.drop(columns=yearsToAnalyze)\n",
    "publicExpenditure = publicExpenditure[publicExpenditure.index.isin(countriesToAnalyze)]\n",
    "publicExpenditure = publicExpenditure.iloc[:,::3]\n",
    "publicExpenditure.fillna(method='bfill', inplace=True)\n",
    "publicExpenditure = publicExpenditure.drop(columns=[2021])\n",
    "publicExpenditure = publicExpenditure.transpose()\n",
    "'''\n",
    "print(publicExpenditure)"
   ]
  },
  {
   "cell_type": "markdown",
   "metadata": {},
   "source": []
  }
 ],
 "metadata": {
  "kernelspec": {
   "display_name": "base",
   "language": "python",
   "name": "python3"
  },
  "language_info": {
   "codemirror_mode": {
    "name": "ipython",
    "version": 3
   },
   "file_extension": ".py",
   "mimetype": "text/x-python",
   "name": "python",
   "nbconvert_exporter": "python",
   "pygments_lexer": "ipython3",
   "version": "3.9.13"
  },
  "orig_nbformat": 4
 },
 "nbformat": 4,
 "nbformat_minor": 2
}
