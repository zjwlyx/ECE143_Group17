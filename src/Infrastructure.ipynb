{
 "cells": [
  {
   "attachments": {},
   "cell_type": "markdown",
   "metadata": {},
   "source": [
    "# Correlations in Economy data"
   ]
  },
  {
   "cell_type": "code",
   "execution_count": 2,
   "metadata": {},
   "outputs": [],
   "source": [
    "# imports\n",
    "\n",
    "import pandas as pd \n",
    "import collections as cTools\n",
    "import itertools as iTools\n",
    "import numpy as np\n",
    "import plotly.graph_objects as go\n",
    "import os\n",
    "import seaborn as sns\n",
    "import matplotlib.pyplot as plt\n",
    "from scipy.stats import linregress\n"
   ]
  },
  {
   "attachments": {},
   "cell_type": "markdown",
   "metadata": {},
   "source": [
    "# ROAD INFRASTRUCTURE EXPENDITURE"
   ]
  },
  {
   "cell_type": "code",
   "execution_count": 8,
   "metadata": {},
   "outputs": [],
   "source": [
    "# Read all data\n",
    "\n",
    "investment = pd.read_csv(r'C:\\Hari\\Q5_books\\143\\Project\\infrastructure\\investment.csv')\n",
    "maintenance = pd.read_csv(r'C:\\Hari\\Q5_books\\143\\Project\\infrastructure\\maintenance.csv')\n",
    "goodsTransport = pd.read_csv(r'C:\\Hari\\Q5_books\\143\\Project\\infrastructure\\goodsTransport.csv')"
   ]
  },
  {
   "cell_type": "code",
   "execution_count": 4,
   "metadata": {},
   "outputs": [],
   "source": [
    "# Filter countries\n",
    "\n",
    "g20Countries = [\n",
    "    'Canada',\n",
    "    'France',\n",
    "    'India',\n",
    "    'Italy',\n",
    "    'Japan',\n",
    "    'Mexico',\n",
    "    'Korea',\n",
    "    'Türkiye',\n",
    "    'United Kingdom',\n",
    "    'United States',\n",
    "]"
   ]
  },
  {
   "cell_type": "code",
   "execution_count": 5,
   "metadata": {},
   "outputs": [
    {
     "name": "stdout",
     "output_type": "stream",
     "text": [
      "###########-> g20 Investment Series <- ###############\n",
      "Year                    2000          2003          2006          2009  \\\n",
      "Country                                                                  \n",
      "Canada          5.109000e+09  6.228000e+09  9.653000e+09  1.726300e+10   \n",
      "France          1.094036e+10  1.099093e+10  1.291532e+10  1.427776e+10   \n",
      "India           8.930000e+08  1.516000e+09  2.294890e+11  3.232800e+11   \n",
      "Italy           6.930000e+09  6.874000e+09  1.428000e+10  5.641000e+09   \n",
      "Japan           7.876816e+12  6.530833e+12  5.343044e+12  4.836705e+12   \n",
      "Korea           8.000000e+06  9.026000e+12  7.336300e+12  2.162280e+13   \n",
      "Mexico          1.139820e+10  2.082970e+10  3.487970e+10  5.671750e+10   \n",
      "Türkiye         5.760000e+08  1.693746e+09  4.151423e+09  7.470630e+09   \n",
      "United Kingdom  3.391000e+09  3.595000e+09  4.323000e+09  5.850859e+09   \n",
      "United States   5.658600e+10  6.003800e+10  7.350000e+10  8.270000e+10   \n",
      "\n",
      "Year                    2012          2015          2018  \n",
      "Country                                                   \n",
      "Canada          1.895900e+10  1.022775e+10  9.841000e+09  \n",
      "France          1.317370e+10  1.001123e+10  9.630630e+09  \n",
      "India           4.264200e+11  9.742400e+11  6.930000e+08  \n",
      "Italy           3.107000e+09  5.151000e+09  6.555000e+09  \n",
      "Japan           3.825478e+12  3.779008e+12  3.913147e+12  \n",
      "Korea           1.560928e+13  1.653127e+13  1.574158e+13  \n",
      "Mexico          6.745920e+10  7.553200e+10  5.234660e+10  \n",
      "Türkiye         1.111392e+10  2.736796e+10  7.674053e+09  \n",
      "United Kingdom  4.507696e+09  6.583304e+09  7.674053e+09  \n",
      "United States   8.310000e+10  8.910000e+10  1.004000e+11  \n"
     ]
    }
   ],
   "source": [
    "# Road way data Investment manipulation\n",
    "\n",
    "investSeries = investment[investment['VARIABLE']=='I-INV-RD']\n",
    "investSeries = investSeries.drop(columns=['COUNTRY','Variable','Measure','MEASURE','YEAR','Unit Code','Unit','PowerCode Code','PowerCode'])\n",
    "investSeries = investSeries.drop(columns = ['Reference Period Code','Reference Period','Flag Codes','Flags','VARIABLE'])\n",
    "mask = investSeries['Country'].str.contains('Moldova') | investSeries['Country'].str.contains('Netherlands') | investSeries['Country'].str.contains('Albania')\n",
    "investSeries = investSeries[~mask]\n",
    "investSeries['Country'] = pd.Categorical(investSeries['Country'])\n",
    "investSeries.set_index('Country')\n",
    "investSeries = investSeries.pivot_table(index='Country', columns='Year', values='Value', aggfunc='first')\n",
    "investSeries = investSeries.apply(pd.to_numeric, errors='coerce')\n",
    "investSeries.fillna(method='bfill', inplace=True)\n",
    "investSeries = investSeries.drop(index = 'Montenegro, Republic of')\n",
    "investSeries = investSeries.iloc[:,::3]\n",
    "g20InvestSeries = investSeries[investSeries.index.isin(g20Countries)]\n",
    "\n",
    "print('###########-> g20 Investment Series <- ###############')\n",
    "print(g20InvestSeries)\n"
   ]
  },
  {
   "cell_type": "code",
   "execution_count": 6,
   "metadata": {},
   "outputs": [
    {
     "name": "stdout",
     "output_type": "stream",
     "text": [
      "###########-> g20 maintenance Series <- ###############\n",
      "Year                    2000          2003          2006          2009  \\\n",
      "Country                                                                  \n",
      "Canada          8.068000e+09  8.306000e+09  7.707000e+09  1.038400e+10   \n",
      "France          2.280000e+08  2.390000e+08  2.235000e+09  2.601000e+09   \n",
      "India           1.789000e+09  2.245000e+09  2.932030e+11  4.206070e+11   \n",
      "Italy           9.720000e+09  1.159600e+10  1.345200e+10  6.008000e+09   \n",
      "Japan           2.213095e+12  2.025693e+12  1.719400e+12  1.758697e+12   \n",
      "Korea           2.213095e+12  2.240700e+12  2.138500e+12  2.488400e+12   \n",
      "Mexico          4.127000e+09  4.824400e+09  6.452800e+09  1.260370e+10   \n",
      "Türkiye         6.500000e+07  1.670000e+08  2.840000e+08  8.880000e+08   \n",
      "United Kingdom  3.120000e+09  3.344000e+09  3.993000e+09  3.863722e+09   \n",
      "United States   2.397500e+10  2.581600e+10  3.139500e+10  3.220300e+10   \n",
      "\n",
      "Year                    2012          2015          2018  \n",
      "Country                                                   \n",
      "Canada          8.004000e+09  7.588227e+09  6.157000e+09  \n",
      "France          2.851000e+09  2.598230e+09  2.370650e+09  \n",
      "India           5.332400e+11  5.329400e+11  1.066000e+10  \n",
      "Italy           7.196000e+09  9.066000e+09  7.352000e+09  \n",
      "Japan           1.806147e+12  1.938608e+12  2.147418e+12  \n",
      "Korea           2.324700e+12  2.768900e+12  2.848286e+12  \n",
      "Mexico          1.394340e+10  1.918020e+10  1.820930e+10  \n",
      "Türkiye         1.620000e+09  7.230000e+08  2.995000e+09  \n",
      "United Kingdom  2.798764e+09  2.297276e+09  2.062552e+09  \n",
      "United States   4.367500e+10  4.398400e+10  2.062552e+09  \n"
     ]
    }
   ],
   "source": [
    "# Road way Maintenance manipulation\n",
    "\n",
    "goodsTransport = maintenance[maintenance['VARIABLE']=='I-MTN-RD']\n",
    "maintenanceSeries = goodsTransport.drop(columns=['COUNTRY','Variable','Measure','MEASURE','YEAR','Unit Code','Unit','PowerCode Code','PowerCode'])\n",
    "maintenanceSeries = maintenanceSeries.drop(columns = ['Reference Period Code','Reference Period','Flag Codes','Flags','VARIABLE'])\n",
    "mask = maintenanceSeries['Country'].str.contains('Moldova') | maintenanceSeries['Country'].str.contains('Netherlands')\n",
    "maintenanceSeries = maintenanceSeries[~mask]\n",
    "maintenanceSeries['Country'] = pd.Categorical(maintenanceSeries['Country'])\n",
    "maintenanceSeries.set_index('Country')\n",
    "maintenanceSeries = maintenanceSeries.pivot_table(index='Country', columns='Year', values='Value', aggfunc='first')\n",
    "maintenanceSeries = maintenanceSeries.apply(pd.to_numeric, errors='coerce')\n",
    "maintenanceSeries.fillna(method='ffill', inplace=True)\n",
    "maintenanceSeries = maintenanceSeries.iloc[:,::3]\n",
    "g20MaintenanceSeries = maintenanceSeries[maintenanceSeries.index.isin(g20Countries)]\n",
    "\n",
    "print('###########-> g20 maintenance Series <- ###############')\n",
    "print(g20MaintenanceSeries)"
   ]
  },
  {
   "cell_type": "code",
   "execution_count": 9,
   "metadata": {},
   "outputs": [
    {
     "name": "stdout",
     "output_type": "stream",
     "text": [
      "###########-> g20 Transport load Series <- ###############\n",
      "Year                   2000         2003         2006         2009  \\\n",
      "Country                                                              \n",
      "Canada             6404.000     9498.000   225105.000   208531.000   \n",
      "France           184240.000   189226.000   198829.000   166052.000   \n",
      "India            494000.000   595000.000   825900.000  1144500.000   \n",
      "Italy            185101.031   143180.122   187012.093   163762.259   \n",
      "Japan            313118.000   321862.000   346534.000   334667.000   \n",
      "Korea            313118.000    98373.000   109008.000    99089.000   \n",
      "Mexico           194053.000   195200.000   209392.000   211600.000   \n",
      "Türkiye          161552.000   152163.000   177399.000   176455.000   \n",
      "United Kingdom   153704.000   157030.000   167524.000   140854.000   \n",
      "United States   2877733.000  3251349.000  3146073.000  2957561.000   \n",
      "\n",
      "Year                    2012          2015          2018  \n",
      "Country                                                   \n",
      "Canada          2.414950e+05  2.773960e+05  2.690940e+05  \n",
      "France          1.658080e+05  1.503980e+05  1.638260e+05  \n",
      "India           1.508000e+06  2.026100e+06  1.186000e+03  \n",
      "Italy           1.240101e+05  1.168203e+05  1.249153e+05  \n",
      "Japan           2.099560e+05  2.043160e+05  2.104670e+05  \n",
      "Korea           1.115290e+05  1.323820e+05  1.435300e+05  \n",
      "Mexico          2.334640e+05  2.451360e+05  2.606420e+05  \n",
      "Türkiye         2.161230e+05  2.443290e+05  2.665020e+05  \n",
      "United Kingdom  1.527057e+05  1.518047e+05  1.610573e+05  \n",
      "United States   2.660295e+06  2.899252e+06  3.022801e+06  \n"
     ]
    }
   ],
   "source": [
    "# Road way export manipulation\n",
    "goodsTransportSeries = goodsTransport[goodsTransport['VARIABLE']=='T-GOODS-RD-TOT']\n",
    "goodsTransportSeries = goodsTransportSeries.drop(columns=['COUNTRY','Variable','YEAR','Unit Code','Unit','PowerCode Code','PowerCode'])\n",
    "goodsTransportSeries = goodsTransportSeries.drop(columns = ['Reference Period Code','Reference Period','Flag Codes','Flags','VARIABLE'])\n",
    "goodsTransportSeries['Country'] = pd.Categorical(goodsTransportSeries['Country'])\n",
    "goodsTransportSeries.set_index('Country')\n",
    "goodsTransportSeries = goodsTransportSeries.pivot_table(index='Country', columns='Year', values='Value', aggfunc='first')\n",
    "goodsTransportSeries = goodsTransportSeries.apply(pd.to_numeric, errors='coerce')\n",
    "goodsTransportSeries.fillna(method='ffill', inplace=True)\n",
    "goodsTransportSeries = goodsTransportSeries.iloc[:,::3]\n",
    "goodsTransportSeries = goodsTransportSeries.drop(columns=[2021],axis=1)\n",
    "g20GoodsTransportSeries = goodsTransportSeries[goodsTransportSeries.index.isin(g20Countries)]\n",
    "print('###########-> g20 Transport load Series <- ###############')\n",
    "print(g20GoodsTransportSeries)"
   ]
  },
  {
   "cell_type": "code",
   "execution_count": 10,
   "metadata": {},
   "outputs": [
    {
     "name": "stdout",
     "output_type": "stream",
     "text": [
      "###########-> Correlation <- ###############\n",
      "Country\n",
      "Korea            -0.702636\n",
      "United States    -0.282077\n",
      "United Kingdom   -0.111792\n",
      "France            0.222365\n",
      "Canada            0.613908\n",
      "Türkiye           0.663247\n",
      "Italy             0.680313\n",
      "Japan             0.695570\n",
      "Mexico            0.773742\n",
      "India             0.933641\n",
      "dtype: float64\n",
      "###########-> Correlation <- ###############\n",
      "[0.37688284496164615, 0.04944637333162433, 0.8716856062951159, 0.4628259983207846, 0.48381747162774336, 0.4936970044750839, 0.5986769793274469, 0.43989723187562724, 0.012497341243086853, 0.07956765156103685]\n"
     ]
    }
   ],
   "source": [
    "# Finding Correlation between investment and Trade\n",
    "investTransportCorr = g20InvestSeries.corrwith(g20GoodsTransportSeries, axis=1).sort_values()\n",
    "\n",
    "print('###########-> Correlation <- ###############')\n",
    "print(investTransportCorr)\n",
    "\n",
    "# Finding R squared value\n",
    "\n",
    "r2Values = []\n",
    "for i in range(len(g20InvestSeries)):\n",
    "    slope, intercept, r_value, p_value, std_err = linregress(g20InvestSeries.iloc[i], g20GoodsTransportSeries.iloc[i])\n",
    "    r2Values.append(r_value ** 2)\n",
    "\n",
    "print('###########-> Correlation <- ###############')\n",
    "print(r2Values)"
   ]
  },
  {
   "cell_type": "code",
   "execution_count": 11,
   "metadata": {},
   "outputs": [
    {
     "name": "stdout",
     "output_type": "stream",
     "text": [
      "###########-> Correlation <- ###############\n",
      "Country\n",
      "United Kingdom   -0.591404\n",
      "United States    -0.144197\n",
      "Türkiye           0.195339\n",
      "France            0.326236\n",
      "Canada            0.405705\n",
      "Japan             0.441285\n",
      "Korea             0.640722\n",
      "Italy             0.790761\n",
      "India             0.854460\n",
      "Mexico            0.902717\n",
      "dtype: float64\n",
      "###########-> Correlation <- ###############\n",
      "Country\n",
      "France           -0.590401\n",
      "United States    -0.430205\n",
      "Canada           -0.240012\n",
      "Japan            -0.221617\n",
      "Korea            -0.164501\n",
      "United Kingdom   -0.059642\n",
      "Italy             0.466725\n",
      "Türkiye           0.821555\n",
      "India             0.908408\n",
      "Mexico            0.937894\n",
      "dtype: float64\n"
     ]
    }
   ],
   "source": [
    "# See how maintenance correlates with investment\n",
    "\n",
    "maintenanceInvestCorr = g20MaintenanceSeries.corrwith(g20InvestSeries, axis=1).sort_values()\n",
    "print('###########-> Correlation <- ###############')\n",
    "print(maintenanceInvestCorr)\n",
    "\n",
    "# see how maintenance correlates with transport\n",
    "\n",
    "maintenanceTransportCorr = g20MaintenanceSeries.corrwith(g20GoodsTransportSeries, axis=1).sort_values()\n",
    "print('###########-> Correlation <- ###############')\n",
    "print(maintenanceTransportCorr)\n"
   ]
  },
  {
   "cell_type": "code",
   "execution_count": 12,
   "metadata": {},
   "outputs": [
    {
     "data": {
      "application/vnd.plotly.v1+json": {
       "config": {
        "plotlyServerURL": "https://plot.ly"
       },
       "data": [
        {
         "marker": {
          "color": [
           -0.702635755192606,
           -0.2820773857668084,
           -0.11179150792026575,
           0.22236540497933652,
           0.6139078472878857,
           0.6632474891589316,
           0.6803131619488074,
           0.6955698898225422,
           0.7737421917715532,
           0.9336410478846331
          ],
          "colorbar": {
           "title": {
            "text": "Correlation"
           }
          },
          "colorscale": [
           [
            0,
            "#30123b"
           ],
           [
            0.07142857142857142,
            "#4145ab"
           ],
           [
            0.14285714285714285,
            "#4675ed"
           ],
           [
            0.21428571428571427,
            "#39a2fc"
           ],
           [
            0.2857142857142857,
            "#1bcfd4"
           ],
           [
            0.35714285714285715,
            "#24eca6"
           ],
           [
            0.42857142857142855,
            "#61fc6c"
           ],
           [
            0.5,
            "#a4fc3b"
           ],
           [
            0.5714285714285714,
            "#d1e834"
           ],
           [
            0.6428571428571429,
            "#f3c63a"
           ],
           [
            0.7142857142857143,
            "#fe9b2d"
           ],
           [
            0.7857142857142857,
            "#f36315"
           ],
           [
            0.8571428571428571,
            "#d93806"
           ],
           [
            0.9285714285714286,
            "#b11901"
           ],
           [
            1,
            "#7a0402"
           ]
          ],
          "opacity": 0.8,
          "reversescale": true,
          "size": [
           5.621086041540848,
           2.2566190861344673,
           0.894332063362126,
           1.7789232398346921,
           4.911262778303086,
           5.305979913271453,
           5.442505295590459,
           5.564559118580338,
           6.189937534172426,
           7.469128383077065
          ],
          "sizemode": "diameter",
          "sizeref": 0.1
         },
         "mode": "markers",
         "showlegend": false,
         "type": "scatter",
         "x": [
          "Korea",
          "United States",
          "United Kingdom",
          "France",
          "Canada",
          "Türkiye",
          "Italy",
          "Japan",
          "Mexico",
          "India"
         ],
         "y": [
          1,
          1,
          1,
          1,
          1,
          1,
          1,
          1,
          1,
          1
         ]
        },
        {
         "mode": "text",
         "showlegend": false,
         "text": [
          "Highest",
          "Lowest"
         ],
         "textfont": {
          "color": "white"
         },
         "textposition": "top center",
         "type": "scatter",
         "x": [
          "India",
          "Korea"
         ],
         "y": [
          1,
          1
         ]
        }
       ],
       "layout": {
        "template": {
         "data": {
          "bar": [
           {
            "error_x": {
             "color": "#2a3f5f"
            },
            "error_y": {
             "color": "#2a3f5f"
            },
            "marker": {
             "line": {
              "color": "#E5ECF6",
              "width": 0.5
             },
             "pattern": {
              "fillmode": "overlay",
              "size": 10,
              "solidity": 0.2
             }
            },
            "type": "bar"
           }
          ],
          "barpolar": [
           {
            "marker": {
             "line": {
              "color": "#E5ECF6",
              "width": 0.5
             },
             "pattern": {
              "fillmode": "overlay",
              "size": 10,
              "solidity": 0.2
             }
            },
            "type": "barpolar"
           }
          ],
          "carpet": [
           {
            "aaxis": {
             "endlinecolor": "#2a3f5f",
             "gridcolor": "white",
             "linecolor": "white",
             "minorgridcolor": "white",
             "startlinecolor": "#2a3f5f"
            },
            "baxis": {
             "endlinecolor": "#2a3f5f",
             "gridcolor": "white",
             "linecolor": "white",
             "minorgridcolor": "white",
             "startlinecolor": "#2a3f5f"
            },
            "type": "carpet"
           }
          ],
          "choropleth": [
           {
            "colorbar": {
             "outlinewidth": 0,
             "ticks": ""
            },
            "type": "choropleth"
           }
          ],
          "contour": [
           {
            "colorbar": {
             "outlinewidth": 0,
             "ticks": ""
            },
            "colorscale": [
             [
              0,
              "#0d0887"
             ],
             [
              0.1111111111111111,
              "#46039f"
             ],
             [
              0.2222222222222222,
              "#7201a8"
             ],
             [
              0.3333333333333333,
              "#9c179e"
             ],
             [
              0.4444444444444444,
              "#bd3786"
             ],
             [
              0.5555555555555556,
              "#d8576b"
             ],
             [
              0.6666666666666666,
              "#ed7953"
             ],
             [
              0.7777777777777778,
              "#fb9f3a"
             ],
             [
              0.8888888888888888,
              "#fdca26"
             ],
             [
              1,
              "#f0f921"
             ]
            ],
            "type": "contour"
           }
          ],
          "contourcarpet": [
           {
            "colorbar": {
             "outlinewidth": 0,
             "ticks": ""
            },
            "type": "contourcarpet"
           }
          ],
          "heatmap": [
           {
            "colorbar": {
             "outlinewidth": 0,
             "ticks": ""
            },
            "colorscale": [
             [
              0,
              "#0d0887"
             ],
             [
              0.1111111111111111,
              "#46039f"
             ],
             [
              0.2222222222222222,
              "#7201a8"
             ],
             [
              0.3333333333333333,
              "#9c179e"
             ],
             [
              0.4444444444444444,
              "#bd3786"
             ],
             [
              0.5555555555555556,
              "#d8576b"
             ],
             [
              0.6666666666666666,
              "#ed7953"
             ],
             [
              0.7777777777777778,
              "#fb9f3a"
             ],
             [
              0.8888888888888888,
              "#fdca26"
             ],
             [
              1,
              "#f0f921"
             ]
            ],
            "type": "heatmap"
           }
          ],
          "heatmapgl": [
           {
            "colorbar": {
             "outlinewidth": 0,
             "ticks": ""
            },
            "colorscale": [
             [
              0,
              "#0d0887"
             ],
             [
              0.1111111111111111,
              "#46039f"
             ],
             [
              0.2222222222222222,
              "#7201a8"
             ],
             [
              0.3333333333333333,
              "#9c179e"
             ],
             [
              0.4444444444444444,
              "#bd3786"
             ],
             [
              0.5555555555555556,
              "#d8576b"
             ],
             [
              0.6666666666666666,
              "#ed7953"
             ],
             [
              0.7777777777777778,
              "#fb9f3a"
             ],
             [
              0.8888888888888888,
              "#fdca26"
             ],
             [
              1,
              "#f0f921"
             ]
            ],
            "type": "heatmapgl"
           }
          ],
          "histogram": [
           {
            "marker": {
             "pattern": {
              "fillmode": "overlay",
              "size": 10,
              "solidity": 0.2
             }
            },
            "type": "histogram"
           }
          ],
          "histogram2d": [
           {
            "colorbar": {
             "outlinewidth": 0,
             "ticks": ""
            },
            "colorscale": [
             [
              0,
              "#0d0887"
             ],
             [
              0.1111111111111111,
              "#46039f"
             ],
             [
              0.2222222222222222,
              "#7201a8"
             ],
             [
              0.3333333333333333,
              "#9c179e"
             ],
             [
              0.4444444444444444,
              "#bd3786"
             ],
             [
              0.5555555555555556,
              "#d8576b"
             ],
             [
              0.6666666666666666,
              "#ed7953"
             ],
             [
              0.7777777777777778,
              "#fb9f3a"
             ],
             [
              0.8888888888888888,
              "#fdca26"
             ],
             [
              1,
              "#f0f921"
             ]
            ],
            "type": "histogram2d"
           }
          ],
          "histogram2dcontour": [
           {
            "colorbar": {
             "outlinewidth": 0,
             "ticks": ""
            },
            "colorscale": [
             [
              0,
              "#0d0887"
             ],
             [
              0.1111111111111111,
              "#46039f"
             ],
             [
              0.2222222222222222,
              "#7201a8"
             ],
             [
              0.3333333333333333,
              "#9c179e"
             ],
             [
              0.4444444444444444,
              "#bd3786"
             ],
             [
              0.5555555555555556,
              "#d8576b"
             ],
             [
              0.6666666666666666,
              "#ed7953"
             ],
             [
              0.7777777777777778,
              "#fb9f3a"
             ],
             [
              0.8888888888888888,
              "#fdca26"
             ],
             [
              1,
              "#f0f921"
             ]
            ],
            "type": "histogram2dcontour"
           }
          ],
          "mesh3d": [
           {
            "colorbar": {
             "outlinewidth": 0,
             "ticks": ""
            },
            "type": "mesh3d"
           }
          ],
          "parcoords": [
           {
            "line": {
             "colorbar": {
              "outlinewidth": 0,
              "ticks": ""
             }
            },
            "type": "parcoords"
           }
          ],
          "pie": [
           {
            "automargin": true,
            "type": "pie"
           }
          ],
          "scatter": [
           {
            "fillpattern": {
             "fillmode": "overlay",
             "size": 10,
             "solidity": 0.2
            },
            "type": "scatter"
           }
          ],
          "scatter3d": [
           {
            "line": {
             "colorbar": {
              "outlinewidth": 0,
              "ticks": ""
             }
            },
            "marker": {
             "colorbar": {
              "outlinewidth": 0,
              "ticks": ""
             }
            },
            "type": "scatter3d"
           }
          ],
          "scattercarpet": [
           {
            "marker": {
             "colorbar": {
              "outlinewidth": 0,
              "ticks": ""
             }
            },
            "type": "scattercarpet"
           }
          ],
          "scattergeo": [
           {
            "marker": {
             "colorbar": {
              "outlinewidth": 0,
              "ticks": ""
             }
            },
            "type": "scattergeo"
           }
          ],
          "scattergl": [
           {
            "marker": {
             "colorbar": {
              "outlinewidth": 0,
              "ticks": ""
             }
            },
            "type": "scattergl"
           }
          ],
          "scattermapbox": [
           {
            "marker": {
             "colorbar": {
              "outlinewidth": 0,
              "ticks": ""
             }
            },
            "type": "scattermapbox"
           }
          ],
          "scatterpolar": [
           {
            "marker": {
             "colorbar": {
              "outlinewidth": 0,
              "ticks": ""
             }
            },
            "type": "scatterpolar"
           }
          ],
          "scatterpolargl": [
           {
            "marker": {
             "colorbar": {
              "outlinewidth": 0,
              "ticks": ""
             }
            },
            "type": "scatterpolargl"
           }
          ],
          "scatterternary": [
           {
            "marker": {
             "colorbar": {
              "outlinewidth": 0,
              "ticks": ""
             }
            },
            "type": "scatterternary"
           }
          ],
          "surface": [
           {
            "colorbar": {
             "outlinewidth": 0,
             "ticks": ""
            },
            "colorscale": [
             [
              0,
              "#0d0887"
             ],
             [
              0.1111111111111111,
              "#46039f"
             ],
             [
              0.2222222222222222,
              "#7201a8"
             ],
             [
              0.3333333333333333,
              "#9c179e"
             ],
             [
              0.4444444444444444,
              "#bd3786"
             ],
             [
              0.5555555555555556,
              "#d8576b"
             ],
             [
              0.6666666666666666,
              "#ed7953"
             ],
             [
              0.7777777777777778,
              "#fb9f3a"
             ],
             [
              0.8888888888888888,
              "#fdca26"
             ],
             [
              1,
              "#f0f921"
             ]
            ],
            "type": "surface"
           }
          ],
          "table": [
           {
            "cells": {
             "fill": {
              "color": "#EBF0F8"
             },
             "line": {
              "color": "white"
             }
            },
            "header": {
             "fill": {
              "color": "#C8D4E3"
             },
             "line": {
              "color": "white"
             }
            },
            "type": "table"
           }
          ]
         },
         "layout": {
          "annotationdefaults": {
           "arrowcolor": "#2a3f5f",
           "arrowhead": 0,
           "arrowwidth": 1
          },
          "autotypenumbers": "strict",
          "coloraxis": {
           "colorbar": {
            "outlinewidth": 0,
            "ticks": ""
           }
          },
          "colorscale": {
           "diverging": [
            [
             0,
             "#8e0152"
            ],
            [
             0.1,
             "#c51b7d"
            ],
            [
             0.2,
             "#de77ae"
            ],
            [
             0.3,
             "#f1b6da"
            ],
            [
             0.4,
             "#fde0ef"
            ],
            [
             0.5,
             "#f7f7f7"
            ],
            [
             0.6,
             "#e6f5d0"
            ],
            [
             0.7,
             "#b8e186"
            ],
            [
             0.8,
             "#7fbc41"
            ],
            [
             0.9,
             "#4d9221"
            ],
            [
             1,
             "#276419"
            ]
           ],
           "sequential": [
            [
             0,
             "#0d0887"
            ],
            [
             0.1111111111111111,
             "#46039f"
            ],
            [
             0.2222222222222222,
             "#7201a8"
            ],
            [
             0.3333333333333333,
             "#9c179e"
            ],
            [
             0.4444444444444444,
             "#bd3786"
            ],
            [
             0.5555555555555556,
             "#d8576b"
            ],
            [
             0.6666666666666666,
             "#ed7953"
            ],
            [
             0.7777777777777778,
             "#fb9f3a"
            ],
            [
             0.8888888888888888,
             "#fdca26"
            ],
            [
             1,
             "#f0f921"
            ]
           ],
           "sequentialminus": [
            [
             0,
             "#0d0887"
            ],
            [
             0.1111111111111111,
             "#46039f"
            ],
            [
             0.2222222222222222,
             "#7201a8"
            ],
            [
             0.3333333333333333,
             "#9c179e"
            ],
            [
             0.4444444444444444,
             "#bd3786"
            ],
            [
             0.5555555555555556,
             "#d8576b"
            ],
            [
             0.6666666666666666,
             "#ed7953"
            ],
            [
             0.7777777777777778,
             "#fb9f3a"
            ],
            [
             0.8888888888888888,
             "#fdca26"
            ],
            [
             1,
             "#f0f921"
            ]
           ]
          },
          "colorway": [
           "#636efa",
           "#EF553B",
           "#00cc96",
           "#ab63fa",
           "#FFA15A",
           "#19d3f3",
           "#FF6692",
           "#B6E880",
           "#FF97FF",
           "#FECB52"
          ],
          "font": {
           "color": "#2a3f5f"
          },
          "geo": {
           "bgcolor": "white",
           "lakecolor": "white",
           "landcolor": "#E5ECF6",
           "showlakes": true,
           "showland": true,
           "subunitcolor": "white"
          },
          "hoverlabel": {
           "align": "left"
          },
          "hovermode": "closest",
          "mapbox": {
           "style": "light"
          },
          "paper_bgcolor": "white",
          "plot_bgcolor": "#E5ECF6",
          "polar": {
           "angularaxis": {
            "gridcolor": "white",
            "linecolor": "white",
            "ticks": ""
           },
           "bgcolor": "#E5ECF6",
           "radialaxis": {
            "gridcolor": "white",
            "linecolor": "white",
            "ticks": ""
           }
          },
          "scene": {
           "xaxis": {
            "backgroundcolor": "#E5ECF6",
            "gridcolor": "white",
            "gridwidth": 2,
            "linecolor": "white",
            "showbackground": true,
            "ticks": "",
            "zerolinecolor": "white"
           },
           "yaxis": {
            "backgroundcolor": "#E5ECF6",
            "gridcolor": "white",
            "gridwidth": 2,
            "linecolor": "white",
            "showbackground": true,
            "ticks": "",
            "zerolinecolor": "white"
           },
           "zaxis": {
            "backgroundcolor": "#E5ECF6",
            "gridcolor": "white",
            "gridwidth": 2,
            "linecolor": "white",
            "showbackground": true,
            "ticks": "",
            "zerolinecolor": "white"
           }
          },
          "shapedefaults": {
           "line": {
            "color": "#2a3f5f"
           }
          },
          "ternary": {
           "aaxis": {
            "gridcolor": "white",
            "linecolor": "white",
            "ticks": ""
           },
           "baxis": {
            "gridcolor": "white",
            "linecolor": "white",
            "ticks": ""
           },
           "bgcolor": "#E5ECF6",
           "caxis": {
            "gridcolor": "white",
            "linecolor": "white",
            "ticks": ""
           }
          },
          "title": {
           "x": 0.05
          },
          "xaxis": {
           "automargin": true,
           "gridcolor": "white",
           "linecolor": "white",
           "ticks": "",
           "title": {
            "standoff": 15
           },
           "zerolinecolor": "white",
           "zerolinewidth": 2
          },
          "yaxis": {
           "automargin": true,
           "gridcolor": "white",
           "linecolor": "white",
           "ticks": "",
           "title": {
            "standoff": 15
           },
           "zerolinecolor": "white",
           "zerolinewidth": 2
          }
         }
        },
        "title": {
         "text": "Bubble Plot Example"
        },
        "xaxis": {
         "title": {
          "text": "Country"
         }
        },
        "yaxis": {
         "title": {
          "text": "Y-axis"
         }
        }
       }
      }
     },
     "metadata": {},
     "output_type": "display_data"
    }
   ],
   "source": [
    "# Plots of Correlation investment and Trade transport volume\n",
    "fig = go.Figure(data=go.Scatter(\n",
    "    x=investTransportCorr.index,\n",
    "    y=[1] * len(investTransportCorr), # Set y-axis to 1 to plot bubbles along the x-axis\n",
    "    mode='markers',\n",
    "    showlegend=False,\n",
    "    marker=dict(\n",
    "        size=abs(investTransportCorr)*8,  # Bubble size based on absolute value of correlation, scaled for display\n",
    "        color=investTransportCorr,            # Bubble color based on correlation\n",
    "        colorscale='Turbo',          # Choose a color scale (optional)\n",
    "        sizemode='diameter',\n",
    "        sizeref=0.1,\n",
    "        opacity=0.8,\n",
    "        reversescale=True,\n",
    "        colorbar=dict(\n",
    "            title='Correlation'       # Title of the colorbar\n",
    "        ),\n",
    "    )\n",
    "))\n",
    "\n",
    "# Update the layout with axis titles and chart title\n",
    "fig.update_layout(\n",
    "    xaxis_title='Country',\n",
    "    yaxis_title='Y-axis',\n",
    "    title='Bubble Plot Example'\n",
    ")\n",
    "\n",
    "# Find the index of the bubble with the highest and lowest correlation\n",
    "highest_index = investTransportCorr.idxmax()\n",
    "lowest_index = investTransportCorr.idxmin()\n",
    "\n",
    "fig.add_trace(\n",
    "    go.Scatter(\n",
    "        x=[highest_index,lowest_index],\n",
    "        y=[1, 1],\n",
    "        text=['Highest','Lowest'],\n",
    "        mode=\"text\",\n",
    "        textposition=\"top center\",\n",
    "        textfont=dict(color=\"white\"),\n",
    "        showlegend=False\n",
    "    )\n",
    ")\n",
    "\n",
    "\n",
    "\n",
    "# Show the chart\n",
    "fig.show()\n",
    "\n"
   ]
  },
  {
   "cell_type": "code",
   "execution_count": 13,
   "metadata": {},
   "outputs": [
    {
     "data": {
      "application/vnd.plotly.v1+json": {
       "config": {
        "plotlyServerURL": "https://plot.ly"
       },
       "data": [
        {
         "marker": {
          "color": [
           -0.5914043747470634,
           -0.14419727680561456,
           0.19533936005524113,
           0.32623580820724324,
           0.4057054249740057,
           0.44128517231447417,
           0.6407222024851834,
           0.7907605997276156,
           0.8544601159905708,
           0.9027171700900443
          ],
          "colorbar": {
           "title": {
            "text": "Correlation"
           }
          },
          "colorscale": [
           [
            0,
            "#30123b"
           ],
           [
            0.07142857142857142,
            "#4145ab"
           ],
           [
            0.14285714285714285,
            "#4675ed"
           ],
           [
            0.21428571428571427,
            "#39a2fc"
           ],
           [
            0.2857142857142857,
            "#1bcfd4"
           ],
           [
            0.35714285714285715,
            "#24eca6"
           ],
           [
            0.42857142857142855,
            "#61fc6c"
           ],
           [
            0.5,
            "#a4fc3b"
           ],
           [
            0.5714285714285714,
            "#d1e834"
           ],
           [
            0.6428571428571429,
            "#f3c63a"
           ],
           [
            0.7142857142857143,
            "#fe9b2d"
           ],
           [
            0.7857142857142857,
            "#f36315"
           ],
           [
            0.8571428571428571,
            "#d93806"
           ],
           [
            0.9285714285714286,
            "#b11901"
           ],
           [
            1,
            "#7a0402"
           ]
          ],
          "opacity": 0.8,
          "reversescale": true,
          "size": [
           4.731234997976507,
           1.1535782144449165,
           1.562714880441929,
           2.609886465657946,
           3.2456433997920455,
           3.5302813785157934,
           5.125777619881467,
           6.326084797820925,
           6.8356809279245665,
           7.221737360720354
          ],
          "sizemode": "diameter",
          "sizeref": 0.1
         },
         "mode": "markers",
         "showlegend": false,
         "type": "scatter",
         "x": [
          "United Kingdom",
          "United States",
          "Türkiye",
          "France",
          "Canada",
          "Japan",
          "Korea",
          "Italy",
          "India",
          "Mexico"
         ],
         "y": [
          1,
          1,
          1,
          1,
          1,
          1,
          1,
          1,
          1,
          1
         ]
        },
        {
         "mode": "text",
         "showlegend": false,
         "text": [
          "Highest",
          "Lowest"
         ],
         "textfont": {
          "color": "white"
         },
         "textposition": "top center",
         "type": "scatter",
         "x": [
          "Mexico",
          "United Kingdom"
         ],
         "y": [
          1,
          1
         ]
        }
       ],
       "layout": {
        "template": {
         "data": {
          "bar": [
           {
            "error_x": {
             "color": "#2a3f5f"
            },
            "error_y": {
             "color": "#2a3f5f"
            },
            "marker": {
             "line": {
              "color": "#E5ECF6",
              "width": 0.5
             },
             "pattern": {
              "fillmode": "overlay",
              "size": 10,
              "solidity": 0.2
             }
            },
            "type": "bar"
           }
          ],
          "barpolar": [
           {
            "marker": {
             "line": {
              "color": "#E5ECF6",
              "width": 0.5
             },
             "pattern": {
              "fillmode": "overlay",
              "size": 10,
              "solidity": 0.2
             }
            },
            "type": "barpolar"
           }
          ],
          "carpet": [
           {
            "aaxis": {
             "endlinecolor": "#2a3f5f",
             "gridcolor": "white",
             "linecolor": "white",
             "minorgridcolor": "white",
             "startlinecolor": "#2a3f5f"
            },
            "baxis": {
             "endlinecolor": "#2a3f5f",
             "gridcolor": "white",
             "linecolor": "white",
             "minorgridcolor": "white",
             "startlinecolor": "#2a3f5f"
            },
            "type": "carpet"
           }
          ],
          "choropleth": [
           {
            "colorbar": {
             "outlinewidth": 0,
             "ticks": ""
            },
            "type": "choropleth"
           }
          ],
          "contour": [
           {
            "colorbar": {
             "outlinewidth": 0,
             "ticks": ""
            },
            "colorscale": [
             [
              0,
              "#0d0887"
             ],
             [
              0.1111111111111111,
              "#46039f"
             ],
             [
              0.2222222222222222,
              "#7201a8"
             ],
             [
              0.3333333333333333,
              "#9c179e"
             ],
             [
              0.4444444444444444,
              "#bd3786"
             ],
             [
              0.5555555555555556,
              "#d8576b"
             ],
             [
              0.6666666666666666,
              "#ed7953"
             ],
             [
              0.7777777777777778,
              "#fb9f3a"
             ],
             [
              0.8888888888888888,
              "#fdca26"
             ],
             [
              1,
              "#f0f921"
             ]
            ],
            "type": "contour"
           }
          ],
          "contourcarpet": [
           {
            "colorbar": {
             "outlinewidth": 0,
             "ticks": ""
            },
            "type": "contourcarpet"
           }
          ],
          "heatmap": [
           {
            "colorbar": {
             "outlinewidth": 0,
             "ticks": ""
            },
            "colorscale": [
             [
              0,
              "#0d0887"
             ],
             [
              0.1111111111111111,
              "#46039f"
             ],
             [
              0.2222222222222222,
              "#7201a8"
             ],
             [
              0.3333333333333333,
              "#9c179e"
             ],
             [
              0.4444444444444444,
              "#bd3786"
             ],
             [
              0.5555555555555556,
              "#d8576b"
             ],
             [
              0.6666666666666666,
              "#ed7953"
             ],
             [
              0.7777777777777778,
              "#fb9f3a"
             ],
             [
              0.8888888888888888,
              "#fdca26"
             ],
             [
              1,
              "#f0f921"
             ]
            ],
            "type": "heatmap"
           }
          ],
          "heatmapgl": [
           {
            "colorbar": {
             "outlinewidth": 0,
             "ticks": ""
            },
            "colorscale": [
             [
              0,
              "#0d0887"
             ],
             [
              0.1111111111111111,
              "#46039f"
             ],
             [
              0.2222222222222222,
              "#7201a8"
             ],
             [
              0.3333333333333333,
              "#9c179e"
             ],
             [
              0.4444444444444444,
              "#bd3786"
             ],
             [
              0.5555555555555556,
              "#d8576b"
             ],
             [
              0.6666666666666666,
              "#ed7953"
             ],
             [
              0.7777777777777778,
              "#fb9f3a"
             ],
             [
              0.8888888888888888,
              "#fdca26"
             ],
             [
              1,
              "#f0f921"
             ]
            ],
            "type": "heatmapgl"
           }
          ],
          "histogram": [
           {
            "marker": {
             "pattern": {
              "fillmode": "overlay",
              "size": 10,
              "solidity": 0.2
             }
            },
            "type": "histogram"
           }
          ],
          "histogram2d": [
           {
            "colorbar": {
             "outlinewidth": 0,
             "ticks": ""
            },
            "colorscale": [
             [
              0,
              "#0d0887"
             ],
             [
              0.1111111111111111,
              "#46039f"
             ],
             [
              0.2222222222222222,
              "#7201a8"
             ],
             [
              0.3333333333333333,
              "#9c179e"
             ],
             [
              0.4444444444444444,
              "#bd3786"
             ],
             [
              0.5555555555555556,
              "#d8576b"
             ],
             [
              0.6666666666666666,
              "#ed7953"
             ],
             [
              0.7777777777777778,
              "#fb9f3a"
             ],
             [
              0.8888888888888888,
              "#fdca26"
             ],
             [
              1,
              "#f0f921"
             ]
            ],
            "type": "histogram2d"
           }
          ],
          "histogram2dcontour": [
           {
            "colorbar": {
             "outlinewidth": 0,
             "ticks": ""
            },
            "colorscale": [
             [
              0,
              "#0d0887"
             ],
             [
              0.1111111111111111,
              "#46039f"
             ],
             [
              0.2222222222222222,
              "#7201a8"
             ],
             [
              0.3333333333333333,
              "#9c179e"
             ],
             [
              0.4444444444444444,
              "#bd3786"
             ],
             [
              0.5555555555555556,
              "#d8576b"
             ],
             [
              0.6666666666666666,
              "#ed7953"
             ],
             [
              0.7777777777777778,
              "#fb9f3a"
             ],
             [
              0.8888888888888888,
              "#fdca26"
             ],
             [
              1,
              "#f0f921"
             ]
            ],
            "type": "histogram2dcontour"
           }
          ],
          "mesh3d": [
           {
            "colorbar": {
             "outlinewidth": 0,
             "ticks": ""
            },
            "type": "mesh3d"
           }
          ],
          "parcoords": [
           {
            "line": {
             "colorbar": {
              "outlinewidth": 0,
              "ticks": ""
             }
            },
            "type": "parcoords"
           }
          ],
          "pie": [
           {
            "automargin": true,
            "type": "pie"
           }
          ],
          "scatter": [
           {
            "fillpattern": {
             "fillmode": "overlay",
             "size": 10,
             "solidity": 0.2
            },
            "type": "scatter"
           }
          ],
          "scatter3d": [
           {
            "line": {
             "colorbar": {
              "outlinewidth": 0,
              "ticks": ""
             }
            },
            "marker": {
             "colorbar": {
              "outlinewidth": 0,
              "ticks": ""
             }
            },
            "type": "scatter3d"
           }
          ],
          "scattercarpet": [
           {
            "marker": {
             "colorbar": {
              "outlinewidth": 0,
              "ticks": ""
             }
            },
            "type": "scattercarpet"
           }
          ],
          "scattergeo": [
           {
            "marker": {
             "colorbar": {
              "outlinewidth": 0,
              "ticks": ""
             }
            },
            "type": "scattergeo"
           }
          ],
          "scattergl": [
           {
            "marker": {
             "colorbar": {
              "outlinewidth": 0,
              "ticks": ""
             }
            },
            "type": "scattergl"
           }
          ],
          "scattermapbox": [
           {
            "marker": {
             "colorbar": {
              "outlinewidth": 0,
              "ticks": ""
             }
            },
            "type": "scattermapbox"
           }
          ],
          "scatterpolar": [
           {
            "marker": {
             "colorbar": {
              "outlinewidth": 0,
              "ticks": ""
             }
            },
            "type": "scatterpolar"
           }
          ],
          "scatterpolargl": [
           {
            "marker": {
             "colorbar": {
              "outlinewidth": 0,
              "ticks": ""
             }
            },
            "type": "scatterpolargl"
           }
          ],
          "scatterternary": [
           {
            "marker": {
             "colorbar": {
              "outlinewidth": 0,
              "ticks": ""
             }
            },
            "type": "scatterternary"
           }
          ],
          "surface": [
           {
            "colorbar": {
             "outlinewidth": 0,
             "ticks": ""
            },
            "colorscale": [
             [
              0,
              "#0d0887"
             ],
             [
              0.1111111111111111,
              "#46039f"
             ],
             [
              0.2222222222222222,
              "#7201a8"
             ],
             [
              0.3333333333333333,
              "#9c179e"
             ],
             [
              0.4444444444444444,
              "#bd3786"
             ],
             [
              0.5555555555555556,
              "#d8576b"
             ],
             [
              0.6666666666666666,
              "#ed7953"
             ],
             [
              0.7777777777777778,
              "#fb9f3a"
             ],
             [
              0.8888888888888888,
              "#fdca26"
             ],
             [
              1,
              "#f0f921"
             ]
            ],
            "type": "surface"
           }
          ],
          "table": [
           {
            "cells": {
             "fill": {
              "color": "#EBF0F8"
             },
             "line": {
              "color": "white"
             }
            },
            "header": {
             "fill": {
              "color": "#C8D4E3"
             },
             "line": {
              "color": "white"
             }
            },
            "type": "table"
           }
          ]
         },
         "layout": {
          "annotationdefaults": {
           "arrowcolor": "#2a3f5f",
           "arrowhead": 0,
           "arrowwidth": 1
          },
          "autotypenumbers": "strict",
          "coloraxis": {
           "colorbar": {
            "outlinewidth": 0,
            "ticks": ""
           }
          },
          "colorscale": {
           "diverging": [
            [
             0,
             "#8e0152"
            ],
            [
             0.1,
             "#c51b7d"
            ],
            [
             0.2,
             "#de77ae"
            ],
            [
             0.3,
             "#f1b6da"
            ],
            [
             0.4,
             "#fde0ef"
            ],
            [
             0.5,
             "#f7f7f7"
            ],
            [
             0.6,
             "#e6f5d0"
            ],
            [
             0.7,
             "#b8e186"
            ],
            [
             0.8,
             "#7fbc41"
            ],
            [
             0.9,
             "#4d9221"
            ],
            [
             1,
             "#276419"
            ]
           ],
           "sequential": [
            [
             0,
             "#0d0887"
            ],
            [
             0.1111111111111111,
             "#46039f"
            ],
            [
             0.2222222222222222,
             "#7201a8"
            ],
            [
             0.3333333333333333,
             "#9c179e"
            ],
            [
             0.4444444444444444,
             "#bd3786"
            ],
            [
             0.5555555555555556,
             "#d8576b"
            ],
            [
             0.6666666666666666,
             "#ed7953"
            ],
            [
             0.7777777777777778,
             "#fb9f3a"
            ],
            [
             0.8888888888888888,
             "#fdca26"
            ],
            [
             1,
             "#f0f921"
            ]
           ],
           "sequentialminus": [
            [
             0,
             "#0d0887"
            ],
            [
             0.1111111111111111,
             "#46039f"
            ],
            [
             0.2222222222222222,
             "#7201a8"
            ],
            [
             0.3333333333333333,
             "#9c179e"
            ],
            [
             0.4444444444444444,
             "#bd3786"
            ],
            [
             0.5555555555555556,
             "#d8576b"
            ],
            [
             0.6666666666666666,
             "#ed7953"
            ],
            [
             0.7777777777777778,
             "#fb9f3a"
            ],
            [
             0.8888888888888888,
             "#fdca26"
            ],
            [
             1,
             "#f0f921"
            ]
           ]
          },
          "colorway": [
           "#636efa",
           "#EF553B",
           "#00cc96",
           "#ab63fa",
           "#FFA15A",
           "#19d3f3",
           "#FF6692",
           "#B6E880",
           "#FF97FF",
           "#FECB52"
          ],
          "font": {
           "color": "#2a3f5f"
          },
          "geo": {
           "bgcolor": "white",
           "lakecolor": "white",
           "landcolor": "#E5ECF6",
           "showlakes": true,
           "showland": true,
           "subunitcolor": "white"
          },
          "hoverlabel": {
           "align": "left"
          },
          "hovermode": "closest",
          "mapbox": {
           "style": "light"
          },
          "paper_bgcolor": "white",
          "plot_bgcolor": "#E5ECF6",
          "polar": {
           "angularaxis": {
            "gridcolor": "white",
            "linecolor": "white",
            "ticks": ""
           },
           "bgcolor": "#E5ECF6",
           "radialaxis": {
            "gridcolor": "white",
            "linecolor": "white",
            "ticks": ""
           }
          },
          "scene": {
           "xaxis": {
            "backgroundcolor": "#E5ECF6",
            "gridcolor": "white",
            "gridwidth": 2,
            "linecolor": "white",
            "showbackground": true,
            "ticks": "",
            "zerolinecolor": "white"
           },
           "yaxis": {
            "backgroundcolor": "#E5ECF6",
            "gridcolor": "white",
            "gridwidth": 2,
            "linecolor": "white",
            "showbackground": true,
            "ticks": "",
            "zerolinecolor": "white"
           },
           "zaxis": {
            "backgroundcolor": "#E5ECF6",
            "gridcolor": "white",
            "gridwidth": 2,
            "linecolor": "white",
            "showbackground": true,
            "ticks": "",
            "zerolinecolor": "white"
           }
          },
          "shapedefaults": {
           "line": {
            "color": "#2a3f5f"
           }
          },
          "ternary": {
           "aaxis": {
            "gridcolor": "white",
            "linecolor": "white",
            "ticks": ""
           },
           "baxis": {
            "gridcolor": "white",
            "linecolor": "white",
            "ticks": ""
           },
           "bgcolor": "#E5ECF6",
           "caxis": {
            "gridcolor": "white",
            "linecolor": "white",
            "ticks": ""
           }
          },
          "title": {
           "x": 0.05
          },
          "xaxis": {
           "automargin": true,
           "gridcolor": "white",
           "linecolor": "white",
           "ticks": "",
           "title": {
            "standoff": 15
           },
           "zerolinecolor": "white",
           "zerolinewidth": 2
          },
          "yaxis": {
           "automargin": true,
           "gridcolor": "white",
           "linecolor": "white",
           "ticks": "",
           "title": {
            "standoff": 15
           },
           "zerolinecolor": "white",
           "zerolinewidth": 2
          }
         }
        },
        "title": {
         "text": "Bubble Plot Example"
        },
        "xaxis": {
         "title": {
          "text": "Country"
         }
        },
        "yaxis": {
         "title": {
          "text": "Y-axis"
         }
        }
       }
      }
     },
     "metadata": {},
     "output_type": "display_data"
    }
   ],
   "source": [
    "# Plots of Correlation investment and maintenance volume\n",
    "fig = go.Figure(data=go.Scatter(\n",
    "    x=maintenanceInvestCorr.index,\n",
    "    y=[1] * len(maintenanceInvestCorr), # Set y-axis to 1 to plot bubbles along the x-axis\n",
    "    mode='markers',\n",
    "    showlegend=False,\n",
    "    marker=dict(\n",
    "        size=abs(maintenanceInvestCorr)*8,  # Bubble size based on absolute value of correlation, scaled for display\n",
    "        color=maintenanceInvestCorr,            # Bubble color based on correlation\n",
    "        colorscale='Turbo',          # Choose a color scale (optional)\n",
    "        sizemode='diameter',\n",
    "        sizeref=0.1,\n",
    "        opacity=0.8,\n",
    "        reversescale=True,\n",
    "        colorbar=dict(\n",
    "            title='Correlation'       # Title of the colorbar\n",
    "        ),\n",
    "    )\n",
    "))\n",
    "\n",
    "# Update the layout with axis titles and chart title\n",
    "fig.update_layout(\n",
    "    xaxis_title='Country',\n",
    "    yaxis_title='Y-axis',\n",
    "    title='Bubble Plot Example'\n",
    ")\n",
    "\n",
    "# Find the index of the bubble with the highest and lowest correlation\n",
    "highest_index = maintenanceInvestCorr.idxmax()\n",
    "lowest_index = maintenanceInvestCorr.idxmin()\n",
    "\n",
    "fig.add_trace(\n",
    "    go.Scatter(\n",
    "        x=[highest_index,lowest_index],\n",
    "        y=[1, 1],\n",
    "        text=['Highest','Lowest'],\n",
    "        mode=\"text\",\n",
    "        textposition=\"top center\",\n",
    "        textfont=dict(color=\"white\"),\n",
    "        showlegend=False\n",
    "    )\n",
    ")\n",
    "\n",
    "\n",
    "\n",
    "# Show the chart\n",
    "fig.show()\n",
    "\n"
   ]
  },
  {
   "cell_type": "code",
   "execution_count": 14,
   "metadata": {},
   "outputs": [
    {
     "data": {
      "application/vnd.plotly.v1+json": {
       "config": {
        "plotlyServerURL": "https://plot.ly"
       },
       "data": [
        {
         "marker": {
          "color": [
           -0.590401193759634,
           -0.43020475680565196,
           -0.24001200675766296,
           -0.2216166369138908,
           -0.16450146511469996,
           -0.05964157266958952,
           0.46672549518793655,
           0.8215546949968926,
           0.9084084641811346,
           0.9378941262456466
          ],
          "colorbar": {
           "title": {
            "text": "Correlation"
           }
          },
          "colorscale": [
           [
            0,
            "#30123b"
           ],
           [
            0.07142857142857142,
            "#4145ab"
           ],
           [
            0.14285714285714285,
            "#4675ed"
           ],
           [
            0.21428571428571427,
            "#39a2fc"
           ],
           [
            0.2857142857142857,
            "#1bcfd4"
           ],
           [
            0.35714285714285715,
            "#24eca6"
           ],
           [
            0.42857142857142855,
            "#61fc6c"
           ],
           [
            0.5,
            "#a4fc3b"
           ],
           [
            0.5714285714285714,
            "#d1e834"
           ],
           [
            0.6428571428571429,
            "#f3c63a"
           ],
           [
            0.7142857142857143,
            "#fe9b2d"
           ],
           [
            0.7857142857142857,
            "#f36315"
           ],
           [
            0.8571428571428571,
            "#d93806"
           ],
           [
            0.9285714285714286,
            "#b11901"
           ],
           [
            1,
            "#7a0402"
           ]
          ],
          "opacity": 0.8,
          "reversescale": true,
          "size": [
           4.723209550077072,
           3.4416380544452156,
           1.9200960540613037,
           1.7729330953111264,
           1.3160117209175997,
           0.47713258135671616,
           3.7338039615034924,
           6.572437559975141,
           7.267267713449077,
           7.503153009965173
          ],
          "sizemode": "diameter",
          "sizeref": 0.1
         },
         "mode": "markers",
         "showlegend": false,
         "type": "scatter",
         "x": [
          "France",
          "United States",
          "Canada",
          "Japan",
          "Korea",
          "United Kingdom",
          "Italy",
          "Türkiye",
          "India",
          "Mexico"
         ],
         "y": [
          1,
          1,
          1,
          1,
          1,
          1,
          1,
          1,
          1,
          1
         ]
        },
        {
         "mode": "text",
         "showlegend": false,
         "text": [
          "Highest",
          "Lowest"
         ],
         "textfont": {
          "color": "white"
         },
         "textposition": "top center",
         "type": "scatter",
         "x": [
          "Mexico",
          "France"
         ],
         "y": [
          1,
          1
         ]
        }
       ],
       "layout": {
        "template": {
         "data": {
          "bar": [
           {
            "error_x": {
             "color": "#2a3f5f"
            },
            "error_y": {
             "color": "#2a3f5f"
            },
            "marker": {
             "line": {
              "color": "#E5ECF6",
              "width": 0.5
             },
             "pattern": {
              "fillmode": "overlay",
              "size": 10,
              "solidity": 0.2
             }
            },
            "type": "bar"
           }
          ],
          "barpolar": [
           {
            "marker": {
             "line": {
              "color": "#E5ECF6",
              "width": 0.5
             },
             "pattern": {
              "fillmode": "overlay",
              "size": 10,
              "solidity": 0.2
             }
            },
            "type": "barpolar"
           }
          ],
          "carpet": [
           {
            "aaxis": {
             "endlinecolor": "#2a3f5f",
             "gridcolor": "white",
             "linecolor": "white",
             "minorgridcolor": "white",
             "startlinecolor": "#2a3f5f"
            },
            "baxis": {
             "endlinecolor": "#2a3f5f",
             "gridcolor": "white",
             "linecolor": "white",
             "minorgridcolor": "white",
             "startlinecolor": "#2a3f5f"
            },
            "type": "carpet"
           }
          ],
          "choropleth": [
           {
            "colorbar": {
             "outlinewidth": 0,
             "ticks": ""
            },
            "type": "choropleth"
           }
          ],
          "contour": [
           {
            "colorbar": {
             "outlinewidth": 0,
             "ticks": ""
            },
            "colorscale": [
             [
              0,
              "#0d0887"
             ],
             [
              0.1111111111111111,
              "#46039f"
             ],
             [
              0.2222222222222222,
              "#7201a8"
             ],
             [
              0.3333333333333333,
              "#9c179e"
             ],
             [
              0.4444444444444444,
              "#bd3786"
             ],
             [
              0.5555555555555556,
              "#d8576b"
             ],
             [
              0.6666666666666666,
              "#ed7953"
             ],
             [
              0.7777777777777778,
              "#fb9f3a"
             ],
             [
              0.8888888888888888,
              "#fdca26"
             ],
             [
              1,
              "#f0f921"
             ]
            ],
            "type": "contour"
           }
          ],
          "contourcarpet": [
           {
            "colorbar": {
             "outlinewidth": 0,
             "ticks": ""
            },
            "type": "contourcarpet"
           }
          ],
          "heatmap": [
           {
            "colorbar": {
             "outlinewidth": 0,
             "ticks": ""
            },
            "colorscale": [
             [
              0,
              "#0d0887"
             ],
             [
              0.1111111111111111,
              "#46039f"
             ],
             [
              0.2222222222222222,
              "#7201a8"
             ],
             [
              0.3333333333333333,
              "#9c179e"
             ],
             [
              0.4444444444444444,
              "#bd3786"
             ],
             [
              0.5555555555555556,
              "#d8576b"
             ],
             [
              0.6666666666666666,
              "#ed7953"
             ],
             [
              0.7777777777777778,
              "#fb9f3a"
             ],
             [
              0.8888888888888888,
              "#fdca26"
             ],
             [
              1,
              "#f0f921"
             ]
            ],
            "type": "heatmap"
           }
          ],
          "heatmapgl": [
           {
            "colorbar": {
             "outlinewidth": 0,
             "ticks": ""
            },
            "colorscale": [
             [
              0,
              "#0d0887"
             ],
             [
              0.1111111111111111,
              "#46039f"
             ],
             [
              0.2222222222222222,
              "#7201a8"
             ],
             [
              0.3333333333333333,
              "#9c179e"
             ],
             [
              0.4444444444444444,
              "#bd3786"
             ],
             [
              0.5555555555555556,
              "#d8576b"
             ],
             [
              0.6666666666666666,
              "#ed7953"
             ],
             [
              0.7777777777777778,
              "#fb9f3a"
             ],
             [
              0.8888888888888888,
              "#fdca26"
             ],
             [
              1,
              "#f0f921"
             ]
            ],
            "type": "heatmapgl"
           }
          ],
          "histogram": [
           {
            "marker": {
             "pattern": {
              "fillmode": "overlay",
              "size": 10,
              "solidity": 0.2
             }
            },
            "type": "histogram"
           }
          ],
          "histogram2d": [
           {
            "colorbar": {
             "outlinewidth": 0,
             "ticks": ""
            },
            "colorscale": [
             [
              0,
              "#0d0887"
             ],
             [
              0.1111111111111111,
              "#46039f"
             ],
             [
              0.2222222222222222,
              "#7201a8"
             ],
             [
              0.3333333333333333,
              "#9c179e"
             ],
             [
              0.4444444444444444,
              "#bd3786"
             ],
             [
              0.5555555555555556,
              "#d8576b"
             ],
             [
              0.6666666666666666,
              "#ed7953"
             ],
             [
              0.7777777777777778,
              "#fb9f3a"
             ],
             [
              0.8888888888888888,
              "#fdca26"
             ],
             [
              1,
              "#f0f921"
             ]
            ],
            "type": "histogram2d"
           }
          ],
          "histogram2dcontour": [
           {
            "colorbar": {
             "outlinewidth": 0,
             "ticks": ""
            },
            "colorscale": [
             [
              0,
              "#0d0887"
             ],
             [
              0.1111111111111111,
              "#46039f"
             ],
             [
              0.2222222222222222,
              "#7201a8"
             ],
             [
              0.3333333333333333,
              "#9c179e"
             ],
             [
              0.4444444444444444,
              "#bd3786"
             ],
             [
              0.5555555555555556,
              "#d8576b"
             ],
             [
              0.6666666666666666,
              "#ed7953"
             ],
             [
              0.7777777777777778,
              "#fb9f3a"
             ],
             [
              0.8888888888888888,
              "#fdca26"
             ],
             [
              1,
              "#f0f921"
             ]
            ],
            "type": "histogram2dcontour"
           }
          ],
          "mesh3d": [
           {
            "colorbar": {
             "outlinewidth": 0,
             "ticks": ""
            },
            "type": "mesh3d"
           }
          ],
          "parcoords": [
           {
            "line": {
             "colorbar": {
              "outlinewidth": 0,
              "ticks": ""
             }
            },
            "type": "parcoords"
           }
          ],
          "pie": [
           {
            "automargin": true,
            "type": "pie"
           }
          ],
          "scatter": [
           {
            "fillpattern": {
             "fillmode": "overlay",
             "size": 10,
             "solidity": 0.2
            },
            "type": "scatter"
           }
          ],
          "scatter3d": [
           {
            "line": {
             "colorbar": {
              "outlinewidth": 0,
              "ticks": ""
             }
            },
            "marker": {
             "colorbar": {
              "outlinewidth": 0,
              "ticks": ""
             }
            },
            "type": "scatter3d"
           }
          ],
          "scattercarpet": [
           {
            "marker": {
             "colorbar": {
              "outlinewidth": 0,
              "ticks": ""
             }
            },
            "type": "scattercarpet"
           }
          ],
          "scattergeo": [
           {
            "marker": {
             "colorbar": {
              "outlinewidth": 0,
              "ticks": ""
             }
            },
            "type": "scattergeo"
           }
          ],
          "scattergl": [
           {
            "marker": {
             "colorbar": {
              "outlinewidth": 0,
              "ticks": ""
             }
            },
            "type": "scattergl"
           }
          ],
          "scattermapbox": [
           {
            "marker": {
             "colorbar": {
              "outlinewidth": 0,
              "ticks": ""
             }
            },
            "type": "scattermapbox"
           }
          ],
          "scatterpolar": [
           {
            "marker": {
             "colorbar": {
              "outlinewidth": 0,
              "ticks": ""
             }
            },
            "type": "scatterpolar"
           }
          ],
          "scatterpolargl": [
           {
            "marker": {
             "colorbar": {
              "outlinewidth": 0,
              "ticks": ""
             }
            },
            "type": "scatterpolargl"
           }
          ],
          "scatterternary": [
           {
            "marker": {
             "colorbar": {
              "outlinewidth": 0,
              "ticks": ""
             }
            },
            "type": "scatterternary"
           }
          ],
          "surface": [
           {
            "colorbar": {
             "outlinewidth": 0,
             "ticks": ""
            },
            "colorscale": [
             [
              0,
              "#0d0887"
             ],
             [
              0.1111111111111111,
              "#46039f"
             ],
             [
              0.2222222222222222,
              "#7201a8"
             ],
             [
              0.3333333333333333,
              "#9c179e"
             ],
             [
              0.4444444444444444,
              "#bd3786"
             ],
             [
              0.5555555555555556,
              "#d8576b"
             ],
             [
              0.6666666666666666,
              "#ed7953"
             ],
             [
              0.7777777777777778,
              "#fb9f3a"
             ],
             [
              0.8888888888888888,
              "#fdca26"
             ],
             [
              1,
              "#f0f921"
             ]
            ],
            "type": "surface"
           }
          ],
          "table": [
           {
            "cells": {
             "fill": {
              "color": "#EBF0F8"
             },
             "line": {
              "color": "white"
             }
            },
            "header": {
             "fill": {
              "color": "#C8D4E3"
             },
             "line": {
              "color": "white"
             }
            },
            "type": "table"
           }
          ]
         },
         "layout": {
          "annotationdefaults": {
           "arrowcolor": "#2a3f5f",
           "arrowhead": 0,
           "arrowwidth": 1
          },
          "autotypenumbers": "strict",
          "coloraxis": {
           "colorbar": {
            "outlinewidth": 0,
            "ticks": ""
           }
          },
          "colorscale": {
           "diverging": [
            [
             0,
             "#8e0152"
            ],
            [
             0.1,
             "#c51b7d"
            ],
            [
             0.2,
             "#de77ae"
            ],
            [
             0.3,
             "#f1b6da"
            ],
            [
             0.4,
             "#fde0ef"
            ],
            [
             0.5,
             "#f7f7f7"
            ],
            [
             0.6,
             "#e6f5d0"
            ],
            [
             0.7,
             "#b8e186"
            ],
            [
             0.8,
             "#7fbc41"
            ],
            [
             0.9,
             "#4d9221"
            ],
            [
             1,
             "#276419"
            ]
           ],
           "sequential": [
            [
             0,
             "#0d0887"
            ],
            [
             0.1111111111111111,
             "#46039f"
            ],
            [
             0.2222222222222222,
             "#7201a8"
            ],
            [
             0.3333333333333333,
             "#9c179e"
            ],
            [
             0.4444444444444444,
             "#bd3786"
            ],
            [
             0.5555555555555556,
             "#d8576b"
            ],
            [
             0.6666666666666666,
             "#ed7953"
            ],
            [
             0.7777777777777778,
             "#fb9f3a"
            ],
            [
             0.8888888888888888,
             "#fdca26"
            ],
            [
             1,
             "#f0f921"
            ]
           ],
           "sequentialminus": [
            [
             0,
             "#0d0887"
            ],
            [
             0.1111111111111111,
             "#46039f"
            ],
            [
             0.2222222222222222,
             "#7201a8"
            ],
            [
             0.3333333333333333,
             "#9c179e"
            ],
            [
             0.4444444444444444,
             "#bd3786"
            ],
            [
             0.5555555555555556,
             "#d8576b"
            ],
            [
             0.6666666666666666,
             "#ed7953"
            ],
            [
             0.7777777777777778,
             "#fb9f3a"
            ],
            [
             0.8888888888888888,
             "#fdca26"
            ],
            [
             1,
             "#f0f921"
            ]
           ]
          },
          "colorway": [
           "#636efa",
           "#EF553B",
           "#00cc96",
           "#ab63fa",
           "#FFA15A",
           "#19d3f3",
           "#FF6692",
           "#B6E880",
           "#FF97FF",
           "#FECB52"
          ],
          "font": {
           "color": "#2a3f5f"
          },
          "geo": {
           "bgcolor": "white",
           "lakecolor": "white",
           "landcolor": "#E5ECF6",
           "showlakes": true,
           "showland": true,
           "subunitcolor": "white"
          },
          "hoverlabel": {
           "align": "left"
          },
          "hovermode": "closest",
          "mapbox": {
           "style": "light"
          },
          "paper_bgcolor": "white",
          "plot_bgcolor": "#E5ECF6",
          "polar": {
           "angularaxis": {
            "gridcolor": "white",
            "linecolor": "white",
            "ticks": ""
           },
           "bgcolor": "#E5ECF6",
           "radialaxis": {
            "gridcolor": "white",
            "linecolor": "white",
            "ticks": ""
           }
          },
          "scene": {
           "xaxis": {
            "backgroundcolor": "#E5ECF6",
            "gridcolor": "white",
            "gridwidth": 2,
            "linecolor": "white",
            "showbackground": true,
            "ticks": "",
            "zerolinecolor": "white"
           },
           "yaxis": {
            "backgroundcolor": "#E5ECF6",
            "gridcolor": "white",
            "gridwidth": 2,
            "linecolor": "white",
            "showbackground": true,
            "ticks": "",
            "zerolinecolor": "white"
           },
           "zaxis": {
            "backgroundcolor": "#E5ECF6",
            "gridcolor": "white",
            "gridwidth": 2,
            "linecolor": "white",
            "showbackground": true,
            "ticks": "",
            "zerolinecolor": "white"
           }
          },
          "shapedefaults": {
           "line": {
            "color": "#2a3f5f"
           }
          },
          "ternary": {
           "aaxis": {
            "gridcolor": "white",
            "linecolor": "white",
            "ticks": ""
           },
           "baxis": {
            "gridcolor": "white",
            "linecolor": "white",
            "ticks": ""
           },
           "bgcolor": "#E5ECF6",
           "caxis": {
            "gridcolor": "white",
            "linecolor": "white",
            "ticks": ""
           }
          },
          "title": {
           "x": 0.05
          },
          "xaxis": {
           "automargin": true,
           "gridcolor": "white",
           "linecolor": "white",
           "ticks": "",
           "title": {
            "standoff": 15
           },
           "zerolinecolor": "white",
           "zerolinewidth": 2
          },
          "yaxis": {
           "automargin": true,
           "gridcolor": "white",
           "linecolor": "white",
           "ticks": "",
           "title": {
            "standoff": 15
           },
           "zerolinecolor": "white",
           "zerolinewidth": 2
          }
         }
        },
        "title": {
         "text": "Bubble Plot Example"
        },
        "xaxis": {
         "title": {
          "text": "Country"
         }
        },
        "yaxis": {
         "title": {
          "text": "Y-axis"
         }
        }
       }
      }
     },
     "metadata": {},
     "output_type": "display_data"
    }
   ],
   "source": [
    "# Plots of maintenance investment and Trade transport volume\n",
    "fig = go.Figure(data=go.Scatter(\n",
    "    x=maintenanceTransportCorr.index,\n",
    "    y=[1] * len(maintenanceTransportCorr), # Set y-axis to 1 to plot bubbles along the x-axis\n",
    "    mode='markers',\n",
    "    showlegend=False,\n",
    "    marker=dict(\n",
    "        size=abs(maintenanceTransportCorr)*8,  # Bubble size based on absolute value of correlation, scaled for display\n",
    "        color=maintenanceTransportCorr,            # Bubble color based on correlation\n",
    "        colorscale='Turbo',          # Choose a color scale (optional)\n",
    "        sizemode='diameter',\n",
    "        sizeref=0.1,\n",
    "        opacity=0.8,\n",
    "        reversescale=True,\n",
    "        colorbar=dict(\n",
    "            title='Correlation'       # Title of the colorbar\n",
    "        ),\n",
    "    )\n",
    "))\n",
    "\n",
    "# Update the layout with axis titles and chart title\n",
    "fig.update_layout(\n",
    "    xaxis_title='Country',\n",
    "    yaxis_title='Y-axis',\n",
    "    title='Bubble Plot Example'\n",
    ")\n",
    "\n",
    "# Find the index of the bubble with the highest and lowest correlation\n",
    "highest_index = maintenanceTransportCorr.idxmax()\n",
    "lowest_index = maintenanceTransportCorr.idxmin()\n",
    "\n",
    "fig.add_trace(\n",
    "    go.Scatter(\n",
    "        x=[highest_index,lowest_index],\n",
    "        y=[1, 1],\n",
    "        text=['Highest','Lowest'],\n",
    "        mode=\"text\",\n",
    "        textposition=\"top center\",\n",
    "        textfont=dict(color=\"white\"),\n",
    "        showlegend=False\n",
    "    )\n",
    ")\n",
    "\n",
    "\n",
    "\n",
    "# Show the chart\n",
    "fig.show()\n",
    "\n"
   ]
  }
 ],
 "metadata": {
  "kernelspec": {
   "display_name": "base",
   "language": "python",
   "name": "python3"
  },
  "language_info": {
   "codemirror_mode": {
    "name": "ipython",
    "version": 3
   },
   "file_extension": ".py",
   "mimetype": "text/x-python",
   "name": "python",
   "nbconvert_exporter": "python",
   "pygments_lexer": "ipython3",
   "version": "3.9.13"
  },
  "orig_nbformat": 4
 },
 "nbformat": 4,
 "nbformat_minor": 2
}
